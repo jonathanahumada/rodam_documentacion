{
 "cells": [
  {
   "cell_type": "markdown",
   "metadata": {},
   "source": [
    "# Flujo del módulo laboratorio\n",
    "\n",
    "Este cuaderno ejemplifica las funcionalidades básicas del módulo laboratorio. \n",
    "\n",
    "## Objetivo\n",
    "Evaluar el alcance de las capacidades del 'backend' del módulo Laboratorio. \n",
    "\n",
    "## Definiciones\n",
    "El 'backend' está compuesto por dos capas. La primera de ellas es la capa de la base de datos relacional. \n",
    "\n",
    "La segunda de ellas es a capa del ORM, que mapea el modelo relacional al paradigma de orientación a objetos. \n",
    "\n",
    "\n",
    "Estas dos capas estan implementadas simultaneamente en el módulo de python 'rodam.modelos.Dominio' a través de la herramienta 'sqlalchemy'.\n",
    "\n",
    "Las clases 'instrumentadas' son las clases que utilizan la herramienta 'sqlalchemy' para generar tablas del modelo relacional. \n",
    "\n",
    "\n",
    "\n",
    "\n"
   ]
  },
  {
   "cell_type": "code",
   "execution_count": 5,
   "metadata": {},
   "outputs": [
    {
     "name": "stdout",
     "output_type": "stream",
     "text": [
      "/Users/jaumaf/.devs\n"
     ]
    }
   ],
   "source": [
    "%cd ~/.devs/\n",
    "from rodam.modelos import Dominio"
   ]
  },
  {
   "cell_type": "markdown",
   "metadata": {},
   "source": [
    "# Inventario\n",
    "\n",
    "Como lo muestra el Documento de Requerimientos, los casos de uso de Inventario son dependencias de los demás. Por ello necesitamos ejemplificarlos primero. Creemos entonces, los objetos del inventario:"
   ]
  },
  {
   "cell_type": "code",
   "execution_count": 10,
   "metadata": {},
   "outputs": [],
   "source": [
    "#ciudades\n",
    "\n",
    "bogota = Dominio.Ciudad(\n",
    "id_ciudad = 1,\n",
    "nom_ciudad = \"Bogotá\",\n",
    "    indicativo = 1\n",
    ")\n",
    "\n",
    "medellin = Dominio.Ciudad(\n",
    "nom_ciudad = \"Medellín\",\n",
    "indicativo = 4,\n",
    "id_ciudad = 2)\n",
    "\n",
    "# sectores\n",
    "\n",
    "farmaceutico = Dominio.Sector(\n",
    "    id_sector = 1,\n",
    "    nom_sector = \"Farmaceutico\"\n",
    ")\n",
    "\n",
    "cosmetico = Dominio.Sector(\n",
    "id_sector = 2,\n",
    "nom_sector = \"Cosmético\")\n",
    "\n",
    "# origen\n",
    "\n",
    "prod_terminado = Dominio.Origen(\n",
    "nom_origen = \"Producto terminado\",\n",
    "id_origen = 1\n",
    ")\n",
    "\n",
    "muestreo_planta = Dominio.Origen(\n",
    "nom_origen = \"Muestreo en planta\",\n",
    "    id_origen = 2\n",
    ")\n",
    "\n",
    "# empresas\n",
    "conalcos = Dominio.Empresa(\n",
    "id_empresa = 1,\n",
    "nit_empresa = 90024,\n",
    "nom_empresa = \"Compañía Nacional de Cosméticos CONALCOS\",\n",
    "id_ciudad = bogota.id_ciudad\n",
    ")\n",
    "\n",
    "remo = Dominio.Empresa(\n",
    "id_empresa = 2,\n",
    "nit_empresa = 90025,\n",
    "nom_empresa = \"Laboratorios REMO S.A.S\",\n",
    "id_ciudad = medellin.id_ciudad\n",
    ") \n",
    "\n",
    "#  clientes \n",
    "conalcos_cliente = Dominio.Cliente(\n",
    "id_cliente = 1,\n",
    "id_empresa = conalcos.id_empresa,\n",
    "retencion = 0.14,\n",
    "IVA = 0.15, \n",
    "ISA = 0.16,\n",
    "ICA = 0.17,    \n",
    ")\n",
    "\n"
   ]
  },
  {
   "cell_type": "code",
   "execution_count": 7,
   "metadata": {},
   "outputs": [
    {
     "data": {
      "text/plain": [
       "<Sector (id_sector='2', nom_sector='Cosmético')>"
      ]
     },
     "execution_count": 7,
     "metadata": {},
     "output_type": "execute_result"
    }
   ],
   "source": []
  },
  {
   "cell_type": "code",
   "execution_count": null,
   "metadata": {},
   "outputs": [],
   "source": []
  }
 ],
 "metadata": {
  "kernelspec": {
   "display_name": "Python 3",
   "language": "python",
   "name": "python3"
  },
  "language_info": {
   "codemirror_mode": {
    "name": "ipython",
    "version": 3
   },
   "file_extension": ".py",
   "mimetype": "text/x-python",
   "name": "python",
   "nbconvert_exporter": "python",
   "pygments_lexer": "ipython3",
   "version": "3.7.4"
  }
 },
 "nbformat": 4,
 "nbformat_minor": 4
}
