{
 "cells": [
  {
   "cell_type": "markdown",
   "metadata": {},
   "source": [
    "\n",
    "\n",
    "Modelo relacional del laboratorio\n",
    "==\n",
    "\n",
    "Prueba de aceptación\n",
    "--\n",
    "---\n",
    "\n",
    "\n",
    "\n",
    "## Resumen\n",
    "\n",
    "Este cuaderno muestra la funcionalidad de la base de datos relacional utilizada para el módulo **Laboratorio** del sistema de información de Rodam Análisis S.A.S. Las funcionalidades se muestran *independientemente* de la interfaz de usuario que luego se implemente sobre el modelo. Idealmente, el modelo deberá cumplir con todos los casos de uso, para luego pasar a la implemenación de su interfaz.\n",
    "\n",
    "Con este cuaderno tanto el *product owner* como el desarrollador podrán evaluar su comprensión mutua sobre el sistema y poner a prueba nuevas ideas.\n",
    "\n",
    "## Documentos relacionados\n",
    "- La *Especificación de Requermientos* detalla los requrimientos y los submódulos del laboratorio.\n",
    "- El *Documento de Diseño* estudia las relaciones y las entidades del módulo.\n",
    "\n",
    "## Objetivo\n",
    "\n",
    "Evaluar el alcance y las limitaciones del *backend* del módulo Laboratorio.\n",
    "\n",
    "Como criterios para evaluar la idoneidad del modelo, propongo estas consideraciones:\n",
    "\n",
    "- ¿las tablas permiten hacer las consultas que necesito en este momento?\n",
    "- ¿las tablas aseguran la integridad referencial de mi modelo? \n",
    "- ¿parece posible extender el sistema con requerimientos que puedan salir a futuro? \n",
    "\n",
    "\n",
    "\n",
    "## Definiciones\n",
    "\n",
    "El *backend* está compuesto por dos capas. La primera de ellas es la **capa de la base de datos relacional**. La segunda de ellas es la **capa del ORM**, que mapea el modelo relacional al paradigma de orientación a objetos. \n",
    "\n",
    "Tanto en el desarrollo como en esta *prueba de aceptación* nos valdremos del **ORM**, por las ventajas que ofrece. Sin embargo, el **modelo relacional** es el cimiento del sistema. Por eso, la exposición vendrá acompañada de consultas directas a una instancia de base de datos `sqlite` llamada `aceptacion.bd`.\n",
    "\n",
    "\n",
    "\n",
    "\n",
    "\n"
   ]
  },
  {
   "attachments": {
    "flujograma-2.png": {
     "image/png": "[encoded data removed]"
    }
   },
   "cell_type": "markdown",
   "metadata": {},
   "source": [
    "# Repaso por los casos de uso\n",
    "\n",
    "Para consultar los casos de uso en mayor detalle, consultar la *Especificación de requerimientos* del módulo. El cuaderno seguirá el camino de las **dependencias secuenciales** esbozadas en ese documento. Un breve resumen del flujo de eventos del laboratorio sería:\n",
    "\n",
    "![flujograma-2.png](attachment:flujograma-2.png)\n"
   ]
  },
  {
   "cell_type": "markdown",
   "metadata": {},
   "source": [
    "# Inicio del flujo\n",
    "\n",
    "Primero, carguemos el módulo de Python con el dominio:"
   ]
  },
  {
   "cell_type": "code",
   "execution_count": 33,
   "metadata": {},
   "outputs": [
    {
     "name": "stdout",
     "output_type": "stream",
     "text": [
      "/Users/jaumaf/.devs\n"
     ]
    }
   ],
   "source": [
    "%cd ~/.devs/\n",
    "from rodam.modelos import Dominio\n",
    "import rodam.conf as conf"
   ]
  },
  {
   "cell_type": "markdown",
   "metadata": {},
   "source": [
    "### Configurando la sesion\n",
    "\n"
   ]
  },
  {
   "cell_type": "code",
   "execution_count": 34,
   "metadata": {},
   "outputs": [],
   "source": [
    "Dominio.Base.metadata.drop_all(conf.ACEPTACION_ENG)"
   ]
  },
  {
   "cell_type": "markdown",
   "metadata": {},
   "source": [
    "Probemos que no haya datos: "
   ]
  },
  {
   "cell_type": "code",
   "execution_count": 35,
   "metadata": {},
   "outputs": [
    {
     "name": "stdout",
     "output_type": "stream",
     "text": [
      "CREATE VIEW v_espec  as select id_producto, id_grupo,id_analisis, id_metodo, valor from especificacion join debe_tener on especificacion.id_debe_tener = debe_tener.id_debe_tener join utiliza on especificacion.id_utiliza = utiliza.id_utiliza;\r\n",
      "CREATE VIEW codigos_especificacines  as select id_producto, id_grupo,id_analisis, id_metodo, valor from especificacion join debe_tener on especificacion.id_debe_tener = debe_tener.id_debe_tener join utiliza on especificacion.id_utiliza = utiliza.id_utiliza;\r\n",
      "CREATE VIEW lectura_maestra as select * from  especificacion, lectura where lectura.id_especificacion   = especificacion.id_especificacion;\r\n",
      "CREATE TABLE agrupa (\r\n",
      "\tid_agrupa INTEGER NOT NULL, \r\n",
      "\tid_grupo INTEGER NOT NULL, \r\n",
      "\tid_analisis INTEGER NOT NULL, \r\n",
      "\tPRIMARY KEY (id_agrupa, id_grupo, id_analisis), \r\n",
      "\tFOREIGN KEY(id_grupo) REFERENCES grupo (id_grupo), \r\n",
      "\tFOREIGN KEY(id_analisis) REFERENCES analisis (id_analisis)\r\n",
      ");\r\n",
      "CREATE VIEW lectura_con_nombres as select producto.nom_producto,\r\n",
      "  id_muestra, grupo.nom_grupo, analisis.nom_analisis, metodo.nom_metodo,\r\n",
      "  especificacion, resultado, medio, lote_medio, registra, verifica,\r\n",
      "  concepto from lectura_expandida join producto on producto.id_producto\r\n",
      "  = lectura_expandida.id_producto join grupo on grupo.id_grupo =\r\n",
      "  lectura_expandida.id_grupo join analisis on analisis.id_analisis =\r\n",
      "  lectura_expandida.id_analisis join metodo on metodo.id_metodo =\r\n",
      "  lectura_expandida.id_metodo;\r\n",
      "CREATE VIEW lectura_expandida as select debe_tener.id_producto,\r\n",
      "  id_muestra, debe_tener.id_grupo, utiliza.id_analisis,\r\n",
      "  utiliza.id_metodo, valor as especificacion, valor_lectura as\r\n",
      "  resultado, lote_medio, registra, verifica,concepto from\r\n",
      "  lectura_maestra join debe_tener on debe_tener.id_debe_tener =\r\n",
      "  lectura_maestra.id_debe_tener join utiliza on utiliza.id_utiliza =\r\n",
      "  lectura_maestra.id_utiliza;\r\n",
      "CREATE TABLE microorganismo (\r\n",
      "\tid_microorganismo INTEGER NOT NULL, \r\n",
      "\tnom_microorganismo VARCHAR, \r\n",
      "\t\"ATC\" VARCHAR, \r\n",
      "\tPRIMARY KEY (id_microorganismo)\r\n",
      ");\r\n",
      "CREATE TABLE control_medio (\r\n",
      "\tid_control_medio INTEGER NOT NULL, \r\n",
      "\tid_muestra INTEGER, \r\n",
      "\tlote_medio VARCHAR, \r\n",
      "\tid_microorganismo VARCHAR, \r\n",
      "\tlote_cepa VARCHAR, \r\n",
      "\tespecificacion VARCHAR, \r\n",
      "\tresultado VARCHAR, \r\n",
      "\tfecha_resultado DATETIME, \r\n",
      "\tconcepto BOOLEAN, \r\n",
      "\tPRIMARY KEY (id_control_medio), \r\n",
      "\tFOREIGN KEY(id_muestra) REFERENCES muestra (id_muestra), \r\n",
      "\tCHECK (concepto IN (0, 1))\r\n",
      ");\r\n",
      "CREATE VIEW codigos_especificaciones as select id_producto,\r\n",
      "  id_grupo,id_analisis, id_metodo, id_material_controlado, valor from\r\n",
      "  especificacion join debe_tener on especificacion.id_debe_tener =\r\n",
      "  debe_tener.id_debe_tener join utiliza on especificacion.id_utiliza =\r\n",
      "  utiliza.id_utiliza;\r\n",
      "CREATE VIEW especificaciones_con_nombres as select producto.nom_producto,\r\n",
      "  grupo.nom_grupo, analisis.nom_analisis, metodo.nom_metodo, metodo.material,\r\n",
      "  material_controlado.nom_material as material_controlado, valor from codigos_especificaciones\r\n",
      "  v_espec join producto on producto.id_producto = v_espec.id_producto\r\n",
      "  join grupo on grupo.id_grupo = v_espec.id_grupo join analisis on\r\n",
      "  analisis.id_analisis = v_espec.id_analisis join metodo on\r\n",
      "  metodo.id_metodo = v_espec.id_metodo join material_controlado on\r\n",
      "  material_controlado.id_material = v_espec.id_material_controlado;\r\n"
     ]
    }
   ],
   "source": [
    "!sqlite3 -header -column rodam/aceptacion.db '.schema' # no debe retornar nada"
   ]
  },
  {
   "cell_type": "code",
   "execution_count": 36,
   "metadata": {},
   "outputs": [],
   "source": [
    "\n",
    "conf.Base.metadata.create_all(conf.ACEPTACION_ENG)\n",
    "session = conf.sessionmaker(bind=conf.ACEPTACION_ENG)"
   ]
  },
  {
   "cell_type": "code",
   "execution_count": 37,
   "metadata": {},
   "outputs": [],
   "source": [
    "sesion = session()"
   ]
  },
  {
   "cell_type": "markdown",
   "metadata": {},
   "source": [
    "# Inventario\n",
    "\n",
    "Los objetos del Inventario son dependencias de los demás. Creemos, entonces, los objetos del inventario:"
   ]
  },
  {
   "cell_type": "code",
   "execution_count": 38,
   "metadata": {},
   "outputs": [],
   "source": [
    "#ciudades\n",
    "\n",
    "bogota = Dominio.Ciudad(\n",
    "id_ciudad = 1,\n",
    "nom_ciudad = \"Bogotá\",\n",
    "    indicativo = 1\n",
    ")\n",
    "\n",
    "medellin = Dominio.Ciudad(\n",
    "nom_ciudad = \"Medellín\",\n",
    "indicativo = 4,\n",
    "id_ciudad = 2)\n",
    "\n",
    "# sectores\n",
    "\n",
    "farmaceutico = Dominio.Sector(\n",
    "    id_sector = 1,\n",
    "    nom_sector = \"Farmaceutico\"\n",
    ")\n",
    "\n",
    "cosmetico = Dominio.Sector(\n",
    "id_sector = 2,\n",
    "nom_sector = \"Cosmético\")\n",
    "\n",
    "# origenes\n",
    "\n",
    "prod_terminado = Dominio.Origen(\n",
    "nom_origen = \"Producto terminado\",\n",
    "id_origen = 1\n",
    ")\n",
    "\n",
    "muestreo_planta = Dominio.Origen(\n",
    "nom_origen = \"Muestreo en planta\",\n",
    "    id_origen = 2\n",
    ")\n",
    "\n",
    "# empresas\n",
    "conalcos = Dominio.Empresa(\n",
    "id_empresa = 1,\n",
    "nit_empresa = 90024,\n",
    "nom_empresa = \"Compañía Nacional de Cosméticos CONALCOS\",\n",
    "id_ciudad = bogota.id_ciudad,\n",
    "pagina = \"conalcos.com.co\",\n",
    "correo = \"contacto@conalco.com.co\",\n",
    "direccion = \"calle 34 Bis 39-33\",\n",
    ")\n",
    "\n",
    "remo = Dominio.Empresa(\n",
    "id_empresa = 2,\n",
    "nit_empresa = 90025,\n",
    "nom_empresa = \"Laboratorios REMO S.A.S\",\n",
    "id_ciudad = medellin.id_ciudad,\n",
    "pagina = \"labremo.com.co\",\n",
    "correo = \"contacto@labremo.com.co\",\n",
    "direccion = \"calle 54 11-22\",\n",
    ") \n",
    "\n",
    "#  clientes \n",
    "conalcos_cliente = Dominio.Cliente(\n",
    "id_cliente = 1,\n",
    "id_empresa = conalcos.id_empresa,\n",
    "retencion = 0.14,\n",
    "IVA = 0.15, \n",
    "ISA = 0.16,\n",
    "ICA = 0.17,    \n",
    ")\n",
    "\n",
    "remo_cliente = Dominio.Cliente(\n",
    "id_cliente = 2,\n",
    "id_empresa = remo.id_empresa,\n",
    "retencion = 0.14,\n",
    "IVA = 0.15,\n",
    "ISA = 0.16,\n",
    "ICA = 0.17)\n",
    "\n",
    "# cargos\n",
    "\n",
    "jefe_laboratorio = Dominio.Cargo(\n",
    "    id_cargo = 1,\n",
    "    nom_cargo= \"Jefe de laboratorio\",\n",
    "    observaciones = \"No sabría que poner aquí\"\n",
    "    \n",
    ")\n",
    "\n",
    "jefe_calidad = Dominio.Cargo(\n",
    "    id_cargo = 2,\n",
    "    nom_cargo= \"Jefe de calidad\",\n",
    "    jefe = jefe_laboratorio.id_cargo,\n",
    "    reemplazo = jefe_laboratorio.id_cargo,\n",
    "    observaciones = \"No sabría que poner aquí\"\n",
    "    \n",
    ")\n",
    "\n",
    "microbiologo = Dominio.Cargo(\n",
    "id_cargo = 3,\n",
    "nom_cargo = \"Microbiólogo\",\n",
    "jefe = jefe_calidad.id_cargo,\n",
    "observaciones = \"No sabría que poner aquí\"    \n",
    "    \n",
    ")\n",
    "\n",
    "# equipos \n",
    "\n",
    "cabina = Dominio.Equipo(\n",
    "id_equipo = 1,\n",
    "nom_equipo = \"Cabina de flujo laminar\",\n",
    "ref_documental = \"E001\"\n",
    ")\n",
    "\n",
    "micropipeta = Dominio.Equipo(\n",
    "id_equipo = 2,\n",
    "nom_equipo = \"Micropipeta\",\n",
    "ref_documental = \"E019\",\n",
    ")\n",
    "\n",
    "balanza = Dominio.Equipo (\n",
    "id_equipo = 3,\n",
    "nom_equipo = \"Balanza\",\n",
    "ref_documental = \"E020\",\n",
    ")\n",
    "\n",
    "incubadora = Dominio.Equipo(\n",
    "id_equipo = 4, \n",
    "    nom_equipo = \"Incubadora\",\n",
    "    ref_documental = \"E010\",\n",
    ")\n",
    "\n",
    "caja_petri = Dominio.Equipo(\n",
    "id_equipo = 5, \n",
    "    nom_equipo = \"Caja de Petri\",\n",
    "    ref_documental = \"E011\",\n",
    ")\n",
    "\n",
    "turbidimetro = Dominio.Equipo(\n",
    "id_equipo = 6, \n",
    "    nom_equipo = \"Turbidimetro\",\n",
    "    ref_documental = \"E012\",\n",
    ")\n",
    "inventario = [bogota, medellin, cosmetico, farmaceutico,\n",
    "             prod_terminado, muestreo_planta, conalcos,\n",
    "             remo, conalcos_cliente, remo_cliente,\n",
    "             jefe_laboratorio, jefe_calidad, \n",
    "             cabina, micropipeta, balanza, incubadora, \n",
    "             caja_petri, turbidimetro]\n",
    "\n",
    "# Materiales controlados\n",
    "no_aplica = Dominio.MaterialControlado(\n",
    "nom_material = \"N. A\"\n",
    ")\n",
    "\n",
    "\n",
    "bacilus = Dominio.MaterialControlado(\n",
    "nom_material = \"Bacillus subtilis spizizenii ATCC 6633\",\n",
    ")\n",
    "\n",
    "pseudomona = Dominio.MaterialControlado(\n",
    "nom_material = \"Pseudomona aeruginosa ATCC 9027\",\n",
    "\n",
    ")\n",
    "\n",
    "staph_aureus = Dominio.MaterialControlado(\n",
    "nom_material = \"Staphylococcus Aureus ATCC 6538\",\n",
    "\n",
    ")\n",
    "candida = Dominio.MaterialControlado(\n",
    "nom_material = \"Candida albicans ATCC 10231\",\n",
    ")\n",
    "\n",
    "aspergillus  = Dominio.MaterialControlado(\n",
    "nom_material = \"Aspergillus bresilensis ATCC 16404\",\n",
    "\n",
    ")\n",
    "\n",
    "\n",
    "inventario = [bogota, medellin, cosmetico, farmaceutico,\n",
    "             prod_terminado, muestreo_planta, conalcos,\n",
    "             remo, conalcos_cliente, remo_cliente,\n",
    "             jefe_laboratorio, jefe_calidad, \n",
    "             cabina, micropipeta, balanza, incubadora, \n",
    "             caja_petri, turbidimetro, no_aplica, bacilus, pseudomona\n",
    "             , staph_aureus, candida, aspergillus]"
   ]
  },
  {
   "cell_type": "markdown",
   "metadata": {},
   "source": [
    "Ahora agreguemos los objetos del inventario y veamos un ejemplo de cómo se vería una de sus tablas:"
   ]
  },
  {
   "cell_type": "code",
   "execution_count": 39,
   "metadata": {},
   "outputs": [],
   "source": [
    "sesion.add_all(inventario)\n",
    "sesion.commit()"
   ]
  },
  {
   "cell_type": "code",
   "execution_count": 40,
   "metadata": {},
   "outputs": [
    {
     "name": "stdout",
     "output_type": "stream",
     "text": [
      "id_equipo  nom_equipo               ref_documental\r\n",
      "---------  -----------------------  --------------\r\n",
      "1          Cabina de flujo laminar  E001          \r\n",
      "2          Micropipeta              E019          \r\n",
      "3          Balanza                  E020          \r\n",
      "4          Incubadora               E010          \r\n",
      "5          Caja de Petri            E011          \r\n",
      "6          Turbidimetro             E012          \r\n"
     ]
    }
   ],
   "source": [
    "!sqlite3 -header -column rodam/aceptacion.db 'select * from equipo;' # ejemplo de lo que acabamos de ingresar"
   ]
  },
  {
   "cell_type": "markdown",
   "metadata": {},
   "source": [
    "# Creación de Catálogo\n",
    "\n",
    "Con el inventario listo, ahora realizaremos el proceso de creación del catálogo. El elemento atómico de un analisis de laboratorio es un método. Debemos crear primero los métodos existentes en el laboratorio."
   ]
  },
  {
   "cell_type": "code",
   "execution_count": 41,
   "metadata": {},
   "outputs": [],
   "source": [
    "# metodos \n",
    "\n",
    "enriquecimiento = Dominio.Metodo(\n",
    "      id_metodo = 1,\n",
    "    nom_metodo = \"Enriquecimiento\",\n",
    "    desc_metodo = \"5g de producto en 45 de TSB, incubar 24 h a 30-25 grados\",\n",
    "    ref_documental = \"IN006\",\n",
    "    observaciones= \"\",\n",
    "    material = \"Agar TSA\" ,\n",
    "    equipos = [cabina, balanza]\n",
    "\n",
    ")\n",
    "\n",
    "siembra_incub =  Dominio.Metodo(\n",
    "      id_metodo = 2,\n",
    "    nom_metodo = \"Siembra e incubación\",\n",
    "    desc_metodo = \"Siembra en superficie: 0.1 ml en TSA, incubar 3 dias a 30-35ºC\",\n",
    "    ref_documental = \"IN007\",\n",
    "    observaciones= \"\",\n",
    "    material = \"Agar Sabouraud\",\n",
    "    equipos = [micropipeta, incubadora]\n",
    "\n",
    ")\n",
    "\n",
    "\n",
    "conteo_petri =  Dominio.Metodo(\n",
    "      id_metodo = 3,\n",
    "    nom_metodo = \"Conteo en caja de Petri\",\n",
    "    desc_metodo = \"Recuento en caja de petri\",\n",
    "    ref_documental = \"IN009\",\n",
    "    observaciones= \"\",\n",
    "    material = \"Agar TSB\",\n",
    "    equipos = [balanza, caja_petri]\n",
    "\n",
    ")\n",
    "\n",
    "diluc_neutralizacion = Dominio.Metodo(\n",
    "      id_metodo = 4,\n",
    "    nom_metodo = \"Dilución - neutralización\",\n",
    "    desc_metodo = \"8 ml de producto (o solucion del producto) durante 1 minuto\",\n",
    "    ref_documental = \"IN010\",\n",
    "    observaciones= \"\",\n",
    "    material = \"Caldo caseina\",\n",
    "    equipos = [balanza]  \n",
    "\n",
    ")\n",
    "\n",
    "inoculo = Dominio.Metodo(\n",
    "    id_metodo= 5,\n",
    "    nom_metodo = \"Inóculo de material controlado\",\n",
    "    ref_documental = \"IN011\",\n",
    "    observaciones = \"\",\n",
    "    material = \"Solución salina\",\n",
    "    equipos = [turbidimetro]\n",
    ")\n",
    "\n",
    "\n",
    "\n",
    "\n",
    "enriq_peptona = Dominio.Metodo(\n",
    "id_metodo = 8, \n",
    "nom_metodo = \"Enriquecimiento + Peptona\",\n",
    "desc_metodo = \"5 ml de Buffer Peptona + 45 ml de TSB, incubar 24 h a 30-35 C\",\n",
    "material = \"Agar TSB\",\n",
    "ref_documental = \"IN014\"\n",
    ")\n",
    "\n",
    "\n",
    "diluc_neut5 = Dominio.Metodo(\n",
    "      id_metodo = 9,\n",
    "    nom_metodo = \"Dilución - neutralización 5 min\",\n",
    "    desc_metodo = \"8 ml de producto (o solucion del producto) durante 5 minutos\",\n",
    "    ref_documental = \"IN015\",\n",
    "    observaciones= \"\",\n",
    "    material = \"Caldo caseina\",\n",
    "    equipos = [balanza]  \n",
    "\n",
    ")\n",
    "diluc_neut15 = Dominio.Metodo(\n",
    "      id_metodo = 10,\n",
    "    nom_metodo = \"Dilución - neutralización 15 min\",\n",
    "    desc_metodo = \"8 ml de producto (o solucion del producto) durante 15 minutos\",\n",
    "    ref_documental = \"IN016\",\n",
    "    observaciones= \"\",\n",
    "    material = \"Caldo caseina\",\n",
    "    equipos = [balanza]  \n",
    "\n",
    ")\n",
    "\n",
    "diluc_neut30 = Dominio.Metodo(\n",
    "      id_metodo = 11,\n",
    "    nom_metodo = \"Dilución - neutralización 30 min\",\n",
    "    desc_metodo = \"8 ml de producto (o solucion del producto) durante 30 minutos\",\n",
    "    ref_documental = \"IN017\",\n",
    "    observaciones= \"\",\n",
    "    material = \"Caldo caseina\",\n",
    "    equipos = [balanza]  \n",
    "\n",
    ")\n",
    "\n",
    "diluc_neut45 = Dominio.Metodo(\n",
    "      id_metodo = 12,\n",
    "    nom_metodo = \"Dilución - neutralización 45 min\",\n",
    "    desc_metodo = \"8 ml de producto (o solucion del producto) durante 45 minutos\",\n",
    "    ref_documental = \"IN018\",\n",
    "    observaciones= \"\",\n",
    "    material = \"Caldo caseina\",\n",
    "    equipos = [balanza]  \n",
    "\n",
    ")\n",
    "\n",
    "\n",
    "metodos = [enriquecimiento, siembra_incub, conteo_petri, diluc_neutralizacion,\n",
    "          inoculo, enriq_peptona, diluc_neut5, diluc_neut15, diluc_neut30, diluc_neut45]"
   ]
  },
  {
   "cell_type": "code",
   "execution_count": 42,
   "metadata": {},
   "outputs": [],
   "source": [
    "sesion.add_all(metodos)"
   ]
  },
  {
   "cell_type": "code",
   "execution_count": 43,
   "metadata": {},
   "outputs": [],
   "source": [
    "sesion.commit()"
   ]
  },
  {
   "cell_type": "code",
   "execution_count": 44,
   "metadata": {},
   "outputs": [
    {
     "name": "stdout",
     "output_type": "stream",
     "text": [
      "|            nom_metodo            |    material     | ref_documental |\r\n",
      "|----------------------------------|-----------------|----------------|\r\n",
      "| Enriquecimiento                  | Agar TSA        | IN006          |\r\n",
      "| Siembra e incubación             | Agar Sabouraud  | IN007          |\r\n",
      "| Conteo en caja de Petri          | Agar TSB        | IN009          |\r\n",
      "| Dilución - neutralización        | Caldo caseina   | IN010          |\r\n",
      "| Inóculo de material controlado   | Solución salina | IN011          |\r\n",
      "| Enriquecimiento + Peptona        | Agar TSB        | IN014          |\r\n",
      "| Dilución - neutralización 5 min  | Caldo caseina   | IN015          |\r\n",
      "| Dilución - neutralización 15 min | Caldo caseina   | IN016          |\r\n",
      "| Dilución - neutralización 30 min | Caldo caseina   | IN017          |\r\n",
      "| Dilución - neutralización 45 min | Caldo caseina   | IN018          |\r\n"
     ]
    }
   ],
   "source": [
    "!sqlite3 -header -markdown rodam/aceptacion.db 'select nom_metodo, material, ref_documental from metodo;' # lo que acabamos de ingresar"
   ]
  },
  {
   "cell_type": "markdown",
   "metadata": {},
   "source": [
    "## Creación de análisis\n",
    "Los analisis tienen muchos métodos. Así que podremos simplemente agregarlos al atributo ```metodos``` correspondiente:"
   ]
  },
  {
   "cell_type": "code",
   "execution_count": 45,
   "metadata": {},
   "outputs": [],
   "source": [
    "# Analisis\n",
    "\n",
    "\n",
    "meso_aerob = Dominio.Analisis(\n",
    "id_analisis = 1,\n",
    "nom_analisis = \"Recuento de Mesofilos Aeorobios\",\n",
    "id_sector = farmaceutico.id_sector,\n",
    "ref_documental= \"PR001\",\n",
    ")\n",
    "\n",
    "\n",
    "# asociaciones \n",
    "util1 = Dominio.Utiliza(\n",
    "id_utiliza = 1,\n",
    "metodo  = enriquecimiento\n",
    ")\n",
    "\n",
    "util2 = Dominio.Utiliza(\n",
    "id_utiliza = 2,\n",
    "metodo = siembra_incub,\n",
    "\n",
    ")\n",
    "\n",
    "util3= Dominio.Utiliza(\n",
    "id_utiliza = 3,\n",
    "metodo = conteo_petri)\n",
    "\n",
    "meso_aerob.metodos= [util1,util2, util3]\n",
    "\n"
   ]
  },
  {
   "cell_type": "code",
   "execution_count": 46,
   "metadata": {},
   "outputs": [],
   "source": [
    "sesion.add(meso_aerob)"
   ]
  },
  {
   "cell_type": "code",
   "execution_count": 47,
   "metadata": {},
   "outputs": [],
   "source": [
    "sesion.commit()"
   ]
  },
  {
   "cell_type": "markdown",
   "metadata": {},
   "source": [
    "La asociación entre `analisis` y `metodo` queda registrada en la tabla `utiliza`"
   ]
  },
  {
   "cell_type": "code",
   "execution_count": 48,
   "metadata": {},
   "outputs": [
    {
     "name": "stdout",
     "output_type": "stream",
     "text": [
      "| id_utiliza | id_analisis | id_metodo |\r\n",
      "|------------|-------------|-----------|\r\n",
      "| 1          | 1           | 1         |\r\n",
      "| 2          | 1           | 2         |\r\n",
      "| 3          | 1           | 3         |\r\n"
     ]
    }
   ],
   "source": [
    "!sqlite3 -header -markdown rodam/aceptacion.db 'select * from utiliza;' # lo que acabamos de ingresar"
   ]
  },
  {
   "cell_type": "code",
   "execution_count": 49,
   "metadata": {},
   "outputs": [],
   "source": [
    "\n",
    "# hongos y levaduras\n",
    "\n",
    "hongos_lev =  Dominio.Analisis(\n",
    "    id_analisis = 2,\n",
    "nom_analisis = \"Recuento de Hongos y Levaduras\",\n",
    "id_sector = farmaceutico.id_sector,\n",
    "ref_documental= \"PR002\",\n",
    "\n",
    ")\n",
    "\n",
    "util4 =  Dominio.Utiliza(\n",
    "id_utiliza = 4,\n",
    "metodo = enriquecimiento\n",
    ")\n",
    "\n",
    "\n",
    "util5  = Dominio.Utiliza(\n",
    "id_utiliza = 5,\n",
    "metodo  = siembra_incub\n",
    ")\n",
    "\n",
    "\n",
    "util6 = Dominio.Utiliza(\n",
    "id_utiliza = 6,\n",
    "metodo  = conteo_petri\n",
    ")\n",
    "\n",
    "hongos_lev.metodos = [util4, util5, util6]\n",
    "\n"
   ]
  },
  {
   "cell_type": "code",
   "execution_count": 50,
   "metadata": {},
   "outputs": [],
   "source": [
    "sesion.add(hongos_lev)\n",
    "sesion.commit()"
   ]
  },
  {
   "cell_type": "code",
   "execution_count": 51,
   "metadata": {},
   "outputs": [],
   "source": [
    "# E. Coli\n",
    "\n",
    "e_coli = Dominio.Analisis(\n",
    "    id_analisis = 3,\n",
    "nom_analisis = \"Presencia de E. Choli\",\n",
    "id_sector = farmaceutico.id_sector,\n",
    "ref_documental= \"PR003\"\n",
    ")\n",
    "\n",
    "\n",
    "\n",
    "util7 =  Dominio.Utiliza(\n",
    "id_utiliza = 7,\n",
    "metodo = enriquecimiento\n",
    ")\n",
    "\n",
    "\n",
    "util8  = Dominio.Utiliza(\n",
    "id_utiliza = 8,\n",
    "metodo  = siembra_incub\n",
    ")\n",
    "\n",
    "\n",
    "util9 = Dominio.Utiliza(\n",
    "id_utiliza = 9,\n",
    "metodo  = conteo_petri\n",
    ")\n",
    "\n",
    "e_coli.metodos = [util7, util8, util9]\n",
    "\n",
    "\n"
   ]
  },
  {
   "cell_type": "code",
   "execution_count": 52,
   "metadata": {},
   "outputs": [],
   "source": [
    "sesion.add(e_coli)\n",
    "sesion.commit()"
   ]
  },
  {
   "cell_type": "code",
   "execution_count": 53,
   "metadata": {},
   "outputs": [],
   "source": [
    "\n",
    "\n",
    "# Actividad bactericida\n",
    "\n",
    "a_bactericida = Dominio.Analisis(\n",
    "nom_analisis = \"Actividad Bactericida Básica\",\n",
    "id_sector = cosmetico.id_sector,\n",
    "ref_documental = \"PR004\",\n",
    "      \n",
    ")\n",
    "\n",
    "\n",
    "util10 =  Dominio.Utiliza(\n",
    "id_utiliza = 10,\n",
    "metodo = enriquecimiento\n",
    ")\n",
    "\n",
    "\n",
    "util11  = Dominio.Utiliza(\n",
    "id_utiliza = 11,\n",
    "metodo  = siembra_incub\n",
    ")\n",
    "\n",
    "\n",
    "util12 = Dominio.Utiliza(\n",
    "id_utiliza = 12,\n",
    "metodo  = inoculo\n",
    ")\n",
    "\n",
    "\n",
    "util15 = Dominio.Utiliza(\n",
    "id_utiliza = 15,\n",
    "metodo  = siembra_incub\n",
    ")\n",
    "\n",
    "util16 = Dominio.Utiliza(\n",
    "id_utiliza = 16,\n",
    "metodo  = conteo_petri\n",
    ")\n",
    "\n",
    "util17 = Dominio.Utiliza(\n",
    "id_utiliza = 17, \n",
    "metodo = enriq_peptona)\n",
    "\n",
    "util18 = Dominio.Utiliza(\n",
    "id_utiliza = 18, \n",
    "metodo = diluc_neut5)\n",
    "\n",
    "\n",
    "util20 = Dominio.Utiliza(\n",
    "id_utiliza = 20,\n",
    "metodo = diluc_neut15)\n",
    "\n",
    "util20 = Dominio.Utiliza(\n",
    "id_utiliza = 21,\n",
    "metodo = diluc_neut30)\n",
    "\n",
    "util21 = Dominio.Utiliza(\n",
    "id_utiliza = 22,\n",
    "metodo = diluc_neut45)\n",
    "\n",
    "util22 = Dominio.Utiliza(\n",
    "id_utiliza = 23,\n",
    "metodo = diluc_neutralizacion)\n",
    "\n",
    "a_bactericida.metodos = [util10, util11, util12, util15, util16,\n",
    "                        util17, util18, util20, util21, util22]\n",
    "\n"
   ]
  },
  {
   "cell_type": "code",
   "execution_count": 54,
   "metadata": {},
   "outputs": [],
   "source": [
    "sesion.add(a_bactericida)"
   ]
  },
  {
   "cell_type": "code",
   "execution_count": 55,
   "metadata": {},
   "outputs": [],
   "source": [
    "sesion.commit()"
   ]
  },
  {
   "cell_type": "markdown",
   "metadata": {},
   "source": [
    "Revisemos la relación `utiliza` con la siguiente consulta:\n",
    "\n",
    "```sql \n",
    "select utiliza.id_utiliza, analisis.nom_analisis, analisis.ref_documental,  metodo.nom_metodo, metodo.ref_documental from utiliza JOIN analisis on utiliza.id_analisis = analisis.id_analisis JOIN metodo on utiliza.id_metodo = metodo.id_metodo;\n",
    "```"
   ]
  },
  {
   "cell_type": "code",
   "execution_count": 56,
   "metadata": {},
   "outputs": [
    {
     "name": "stdout",
     "output_type": "stream",
     "text": [
      "| id_utiliza |          nom_analisis           | ref_documental |            nom_metodo            | ref_documental |\r\n",
      "|------------|---------------------------------|----------------|----------------------------------|----------------|\r\n",
      "| 1          | Recuento de Mesofilos Aeorobios | PR001          | Enriquecimiento                  | IN006          |\r\n",
      "| 2          | Recuento de Mesofilos Aeorobios | PR001          | Siembra e incubación             | IN007          |\r\n",
      "| 3          | Recuento de Mesofilos Aeorobios | PR001          | Conteo en caja de Petri          | IN009          |\r\n",
      "| 4          | Recuento de Hongos y Levaduras  | PR002          | Enriquecimiento                  | IN006          |\r\n",
      "| 5          | Recuento de Hongos y Levaduras  | PR002          | Siembra e incubación             | IN007          |\r\n",
      "| 6          | Recuento de Hongos y Levaduras  | PR002          | Conteo en caja de Petri          | IN009          |\r\n",
      "| 7          | Presencia de E. Choli           | PR003          | Enriquecimiento                  | IN006          |\r\n",
      "| 8          | Presencia de E. Choli           | PR003          | Siembra e incubación             | IN007          |\r\n",
      "| 9          | Presencia de E. Choli           | PR003          | Conteo en caja de Petri          | IN009          |\r\n",
      "| 10         | Actividad Bactericida Básica    | PR004          | Enriquecimiento                  | IN006          |\r\n",
      "| 11         | Actividad Bactericida Básica    | PR004          | Siembra e incubación             | IN007          |\r\n",
      "| 12         | Actividad Bactericida Básica    | PR004          | Inóculo de material controlado   | IN011          |\r\n",
      "| 15         | Actividad Bactericida Básica    | PR004          | Siembra e incubación             | IN007          |\r\n",
      "| 16         | Actividad Bactericida Básica    | PR004          | Conteo en caja de Petri          | IN009          |\r\n",
      "| 17         | Actividad Bactericida Básica    | PR004          | Enriquecimiento + Peptona        | IN014          |\r\n",
      "| 18         | Actividad Bactericida Básica    | PR004          | Dilución - neutralización 5 min  | IN015          |\r\n",
      "| 21         | Actividad Bactericida Básica    | PR004          | Dilución - neutralización 30 min | IN017          |\r\n",
      "| 22         | Actividad Bactericida Básica    | PR004          | Dilución - neutralización 45 min | IN018          |\r\n",
      "| 23         | Actividad Bactericida Básica    | PR004          | Dilución - neutralización        | IN010          |\r\n"
     ]
    }
   ],
   "source": [
    "!sqlite3 -header -markdown rodam/aceptacion.db 'select utiliza.id_utiliza, analisis.nom_analisis, analisis.ref_documental,  metodo.nom_metodo, metodo.ref_documental from utiliza JOIN analisis on utiliza.id_analisis = analisis.id_analisis JOIN metodo on utiliza.id_metodo = metodo.id_metodo;'"
   ]
  },
  {
   "cell_type": "markdown",
   "metadata": {},
   "source": [
    "| id_utiliza |          nom_analisis           | ref_documental |            nom_metodo            | ref_documental |\n",
    "|------------|---------------------------------|----------------|----------------------------------|----------------|\n",
    "| 1          | Recuento de Mesofilos Aeorobios | PR001          | Enriquecimiento                  | IN006          |\n",
    "| 2          | Recuento de Mesofilos Aeorobios | PR001          | Siembra e incubación             | IN007          |\n",
    "| 3          | Recuento de Mesofilos Aeorobios | PR001          | Conteo en caja de Petri          | IN009          |\n",
    "| 4          | Recuento de Hongos y Levaduras  | PR002          | Enriquecimiento                  | IN006          |\n",
    "| 5          | Recuento de Hongos y Levaduras  | PR002          | Siembra e incubación             | IN007          |\n",
    "| 6          | Recuento de Hongos y Levaduras  | PR002          | Conteo en caja de Petri          | IN009          |\n",
    "| 7          | Presencia de E. Choli           | PR003          | Enriquecimiento                  | IN006          |\n",
    "| 8          | Presencia de E. Choli           | PR003          | Siembra e incubación             | IN007          |\n",
    "| 9          | Presencia de E. Choli           | PR003          | Conteo en caja de Petri          | IN009          |\n",
    "| 10         | Actividad Bactericida Básica    | PR004          | Enriquecimiento                  | IN006          |\n",
    "| 11         | Actividad Bactericida Básica    | PR004          | Siembra e incubación             | IN007          |\n",
    "| 12         | Actividad Bactericida Básica    | PR004          | Inóculo de material controlado   | IN011          |\n",
    "| 15         | Actividad Bactericida Básica    | PR004          | Siembra e incubación             | IN007          |\n",
    "| 16         | Actividad Bactericida Básica    | PR004          | Conteo en caja de Petri          | IN009          |\n",
    "| 17         | Actividad Bactericida Básica    | PR004          | Enriquecimiento + Peptona        | IN014          |\n",
    "| 18         | Actividad Bactericida Básica    | PR004          | Dilución - neutralización 5 min  | IN015          |\n",
    "| 21         | Actividad Bactericida Básica    | PR004          | Dilución - neutralización 30 min | IN017          |\n",
    "| 22         | Actividad Bactericida Básica    | PR004          | Dilución - neutralización 45 min | IN018          |\n",
    "| 23         | Actividad Bactericida Básica    | PR004          | Dilución - neutralización        | IN010          |"
   ]
  },
  {
   "cell_type": "markdown",
   "metadata": {},
   "source": [
    "## Creación de Grupos\n",
    "\n",
    "Los analisis pueden pertenecer a varios grupos.\n",
    "\n",
    "\n"
   ]
  },
  {
   "cell_type": "code",
   "execution_count": 57,
   "metadata": {},
   "outputs": [],
   "source": [
    "\n",
    "grupo_unico = Dominio.Grupo(\n",
    "nom_grupo = \"Grupo único\",\n",
    "desc_grupo = \"Para análisis simples que no requieren grupos\")\n",
    "\n",
    "\n",
    "recuento_inoc= Dominio.Grupo(\n",
    "nom_grupo = \"Recuento del inóculo\",\n",
    "desc_grupo = \"Recuento del inóculo para actividad bactericida básica\")\n",
    "\n",
    "toxicidad = Dominio.Grupo(\n",
    "nom_grupo = \"Control de toxicidad del neutralizante\",\n",
    "desc_grupo = \"Pseudomonas Aeruginosa y staphylococcus Aureus\",\n",
    ")\n",
    "\n",
    "control_neutralizacion = Dominio.Grupo(\n",
    "nom_grupo = \"Control del método de dilución-neutralización\",\n",
    ")\n",
    "\n",
    "prueba_dilucion = Dominio.Grupo(\n",
    "nom_grupo = \"Prueba de dilución - neutralización\"\n",
    ")\n",
    "\n",
    "\n",
    "# estos analisis quedan asociados al grupo único\n",
    "\n",
    "agrupa1 = Dominio.Agrupacion(\n",
    "id_agrupacion = 1,\n",
    "analisis = meso_aerob\n",
    ")\n",
    "\n",
    "agrupa2 = Dominio.Agrupacion(\n",
    "id_agrupacion = 2,\n",
    "analisis = hongos_lev     \n",
    ")\n",
    "\n",
    "agrupa3 = Dominio.Agrupacion(\n",
    "id_agrupacion = 3, \n",
    "analisis = e_coli    \n",
    ")\n",
    "\n",
    "\n",
    "grupo_unico.analisis = [agrupa1, agrupa2, agrupa3]\n",
    "\n",
    "\n"
   ]
  },
  {
   "cell_type": "code",
   "execution_count": 58,
   "metadata": {},
   "outputs": [],
   "source": [
    "sesion.add(grupo_unico)\n",
    "sesion.commit()"
   ]
  },
  {
   "cell_type": "code",
   "execution_count": 59,
   "metadata": {},
   "outputs": [
    {
     "name": "stdout",
     "output_type": "stream",
     "text": [
      "| id_agrupacion | id_grupo | id_analisis |\r\n",
      "|---------------|----------|-------------|\r\n",
      "| 1             | 1        | 1           |\r\n",
      "| 2             | 1        | 2           |\r\n",
      "| 3             | 1        | 3           |\r\n"
     ]
    }
   ],
   "source": [
    "!sqlite3 -header -markdown rodam/aceptacion.db 'select * from agrupacion'"
   ]
  },
  {
   "cell_type": "code",
   "execution_count": 60,
   "metadata": {},
   "outputs": [],
   "source": [
    "# actividad bactericida tiene estos grupos == estos grupos tienen actividad bactericida\n",
    "\n",
    "agrupa4 = Dominio.Agrupacion(\n",
    "id_agrupacion = 4, \n",
    "analisis = a_bactericida\n",
    ")\n",
    "\n",
    "agrupa5 = Dominio.Agrupacion(\n",
    "id_agrupacion = 5, \n",
    "analisis = a_bactericida\n",
    ")\n",
    "\n",
    "agrupa6 = Dominio.Agrupacion(\n",
    "id_agrupacion = 6,\n",
    "analisis = a_bactericida)\n",
    "\n",
    "agrupa7 = Dominio.Agrupacion(\n",
    "id_agrupacion = 7, \n",
    "analisis = a_bactericida    \n",
    ")\n",
    "\n",
    "toxicidad.analisis.append(agrupa4)\n",
    "recuento_inoc.analisis.append(agrupa5)\n",
    "control_neutralizacion.analisis.append(agrupa6)\n",
    "prueba_dilucion.analisis.append(agrupa7)\n",
    "\n",
    "\n",
    "\n"
   ]
  },
  {
   "cell_type": "code",
   "execution_count": 61,
   "metadata": {},
   "outputs": [],
   "source": [
    "sesion.add_all([toxicidad, recuento_inoc,prueba_dilucion])"
   ]
  },
  {
   "cell_type": "code",
   "execution_count": 62,
   "metadata": {},
   "outputs": [],
   "source": [
    "sesion.commit()"
   ]
  },
  {
   "cell_type": "code",
   "execution_count": 63,
   "metadata": {},
   "outputs": [
    {
     "name": "stdout",
     "output_type": "stream",
     "text": [
      "|               nom_grupo                |          nom_analisis           |\r\n",
      "|----------------------------------------|---------------------------------|\r\n",
      "| Grupo único                            | Recuento de Mesofilos Aeorobios |\r\n",
      "| Grupo único                            | Recuento de Hongos y Levaduras  |\r\n",
      "| Grupo único                            | Presencia de E. Choli           |\r\n",
      "| Control de toxicidad del neutralizante | Actividad Bactericida Básica    |\r\n",
      "| Recuento del inóculo                   | Actividad Bactericida Básica    |\r\n",
      "| Prueba de dilución - neutralización    | Actividad Bactericida Básica    |\r\n"
     ]
    }
   ],
   "source": [
    "!sqlite3 -header -markdown rodam/aceptacion.db 'select grupo.nom_grupo, analisis.nom_analisis from agrupacion join grupo on agrupacion.id_grupo = grupo.id_grupo join analisis on agrupacion.id_analisis =  analisis.id_analisis'"
   ]
  },
  {
   "cell_type": "markdown",
   "metadata": {},
   "source": [
    "# Ingreso de Muestras \n",
    "\n",
    "Una vez sabemos qué servicios están en nuestro catálogo, podemos empezar a ingresar productos y a realizar análisis sobre esas muestras.\n",
    "\n",
    "\n",
    " "
   ]
  },
  {
   "cell_type": "markdown",
   "metadata": {},
   "source": [
    "## Ingreso de un producto\n",
    "\n",
    "En **Rodam Análisis S.A.S**, un producto se ingresa una sola vez. A partir de allí, el producto queda enlazado con una seríe de especificaciones que indican qué grupos, análisis y métodos deben correrse sobre una muestra de ese producto. \n",
    "\n",
    "Luego del ingreso del producto, cada **muestra** de ese producto siempre tendrá las especificaciones estipuladas para el producto. \n",
    "\n",
    "Primero empecemos con la creación de un producto:"
   ]
  },
  {
   "cell_type": "code",
   "execution_count": 64,
   "metadata": {},
   "outputs": [],
   "source": [
    "# producto 1\n",
    "xinefax = Dominio.Producto(\n",
    "id_producto= 1,                    \n",
    "nom_producto = \"Xinefax\" ,           # libre\n",
    "forma_farmaceutica = \"Emulsión\",     # libre\n",
    "id_sector = farmaceutico.id_sector,  # dependencia    \n",
    "id_cliente = conalcos_cliente.id_cliente\n",
    ")\n",
    "sesion.add(xinefax)\n",
    "sesion.commit()\n",
    "\n",
    "\n",
    "# producto 2\n",
    "\n",
    "seximax = Dominio.Producto(\n",
    "id_producto = 2, \n",
    "nom_producto = \"Seximax\",\n",
    "forma_farmaceutica = \"Loción\",\n",
    "id_sector = cosmetico.id_sector, \n",
    "id_cliente = remo_cliente.id_cliente\n",
    ")\n",
    "\n",
    "sesion.add(seximax)\n",
    "sesion.commit()"
   ]
  },
  {
   "cell_type": "markdown",
   "metadata": {},
   "source": [
    "Ahora debemos indicar qué grupos tendrá el producto. "
   ]
  },
  {
   "cell_type": "code",
   "execution_count": 65,
   "metadata": {},
   "outputs": [],
   "source": [
    "#  El producto debe tener grupos ya existentes en el catálogo\n",
    "\n",
    "debe1 = Dominio.Debe_tener(\n",
    "id_debe_tener = 1,\n",
    "grupo = recuento_inoc\n",
    ")\n",
    "\n",
    "debe2 = Dominio.Debe_tener(\n",
    "id_debe_tener = 2,\n",
    "grupo = toxicidad\n",
    ")\n",
    "\n",
    "\n",
    "debe3 = Dominio.Debe_tener(\n",
    "id_debe_tener = 3,\n",
    "grupo = control_neutralizacion\n",
    "\n",
    "    \n",
    ")\n",
    "\n",
    "debe4 = Dominio.Debe_tener(\n",
    "id_debe_tener = 4,\n",
    "grupo = prueba_dilucion\n",
    "\n",
    ")\n",
    "\n",
    "\n",
    "\n",
    "xinefax.grupos = [debe1, debe2, debe3, debe4]\n",
    "\n",
    "debe5 = Dominio.Debe_tener(\n",
    "id_debe_tener = 5,\n",
    "grupo = grupo_unico\n",
    ")\n",
    "\n",
    "seximax.grupos = [debe5]"
   ]
  },
  {
   "cell_type": "code",
   "execution_count": 66,
   "metadata": {},
   "outputs": [],
   "source": [
    "\n",
    "sesion.commit()"
   ]
  },
  {
   "cell_type": "code",
   "execution_count": 67,
   "metadata": {},
   "outputs": [
    {
     "name": "stdout",
     "output_type": "stream",
     "text": [
      "| id_debe_tener | id_producto | id_grupo |\r\n",
      "|---------------|-------------|----------|\r\n",
      "| 1             | 1           | 3        |\r\n",
      "| 2             | 1           | 2        |\r\n",
      "| 3             | 1           | 5        |\r\n",
      "| 4             | 1           | 4        |\r\n",
      "| 5             | 2           | 1        |\r\n"
     ]
    }
   ],
   "source": [
    "!sqlite3 -header -markdown rodam/aceptacion.db 'select * from debe_tener;'"
   ]
  },
  {
   "cell_type": "markdown",
   "metadata": {},
   "source": [
    "## Especificar un producto"
   ]
  },
  {
   "cell_type": "markdown",
   "metadata": {},
   "source": [
    "### Caso complejo : especificar actividad bactericida"
   ]
  },
  {
   "cell_type": "markdown",
   "metadata": {},
   "source": [
    "Sabemos que `xinefax` *debe tener* los grupos estipulados en el resultado anterior. Pero aún no hemos especificado cuáles de los analisis disponibles en esos grupos se tienen que correr. \n",
    "\n",
    "Sin embargo, podemos saber qué analisis estan disponibles dentro de qué grupo (esto puede ser útil, en una interfaz de usuario):"
   ]
  },
  {
   "cell_type": "code",
   "execution_count": 68,
   "metadata": {},
   "outputs": [
    {
     "name": "stdout",
     "output_type": "stream",
     "text": [
      "| id_agrupacion |                   nom_grupo                   | id_grupo |          nom_analisis           | id_analisis |\r\n",
      "|---------------|-----------------------------------------------|----------|---------------------------------|-------------|\r\n",
      "| 1             | Grupo único                                   | 1        | Recuento de Mesofilos Aeorobios | 1           |\r\n",
      "| 2             | Grupo único                                   | 1        | Recuento de Hongos y Levaduras  | 2           |\r\n",
      "| 3             | Grupo único                                   | 1        | Presencia de E. Choli           | 3           |\r\n",
      "| 4             | Control de toxicidad del neutralizante        | 2        | Actividad Bactericida Básica    | 4           |\r\n",
      "| 5             | Recuento del inóculo                          | 3        | Actividad Bactericida Básica    | 4           |\r\n",
      "| 7             | Prueba de dilución - neutralización           | 4        | Actividad Bactericida Básica    | 4           |\r\n",
      "| 6             | Control del método de dilución-neutralización | 5        | Actividad Bactericida Básica    | 4           |\r\n"
     ]
    }
   ],
   "source": [
    "!sqlite3 -header -markdown rodam/aceptacion.db \"select agrupacion.id_agrupacion, grupo.nom_grupo, grupo.id_grupo, analisis.nom_analisis, analisis.id_analisis  from agrupacion join grupo on agrupacion.id_grupo = grupo.id_grupo join analisis on agrupacion.id_analisis = analisis.id_analisis\""
   ]
  },
  {
   "cell_type": "markdown",
   "metadata": {},
   "source": [
    "| id_agrupacion |                   nom_grupo                   | id_grupo |          nom_analisis           | id_analisis |\n",
    "|---------------|-----------------------------------------------|----------|---------------------------------|-------------|\n",
    "| 1             | Grupo único                                   | 1        | Recuento de Mesofilos Aeorobios | 1           |\n",
    "| 2             | Grupo único                                   | 1        | Recuento de Hongos y Levaduras  | 2           |\n",
    "| 3             | Grupo único                                   | 1        | Presencia de E. Choli           | 3           |\n",
    "| 4             | Control de toxicidad del neutralizante        | 2        | Actividad Bactericida Básica    | 4           |\n",
    "| 5             | Recuento del inóculo                          | 3        | Actividad Bactericida Básica    | 4           |\n",
    "| 7             | Prueba de dilución - neutralización           | 4        | Actividad Bactericida Básica    | 4           |\n",
    "| 6             | Control del método de dilución-neutralización | 5        | Actividad Bactericida Básica    | 4           |"
   ]
  },
  {
   "cell_type": "markdown",
   "metadata": {},
   "source": [
    "Tambien necesitaremos especificar qué metodos para qué analisis. Entonces debemos buscar:\n",
    "    "
   ]
  },
  {
   "cell_type": "code",
   "execution_count": 69,
   "metadata": {},
   "outputs": [
    {
     "name": "stdout",
     "output_type": "stream",
     "text": [
      "| id_utiliza | id_analisis |            nom_metodo            | id_metodo | ref_documental |\r\n",
      "|------------|-------------|----------------------------------|-----------|----------------|\r\n",
      "| 1          | 1           | Enriquecimiento                  | 1         | IN006          |\r\n",
      "| 2          | 1           | Siembra e incubación             | 2         | IN007          |\r\n",
      "| 3          | 1           | Conteo en caja de Petri          | 3         | IN009          |\r\n",
      "| 4          | 2           | Enriquecimiento                  | 1         | IN006          |\r\n",
      "| 5          | 2           | Siembra e incubación             | 2         | IN007          |\r\n",
      "| 6          | 2           | Conteo en caja de Petri          | 3         | IN009          |\r\n",
      "| 7          | 3           | Enriquecimiento                  | 1         | IN006          |\r\n",
      "| 8          | 3           | Siembra e incubación             | 2         | IN007          |\r\n",
      "| 9          | 3           | Conteo en caja de Petri          | 3         | IN009          |\r\n",
      "| 10         | 4           | Enriquecimiento                  | 1         | IN006          |\r\n",
      "| 11         | 4           | Siembra e incubación             | 2         | IN007          |\r\n",
      "| 12         | 4           | Inóculo de material controlado   | 5         | IN011          |\r\n",
      "| 15         | 4           | Siembra e incubación             | 2         | IN007          |\r\n",
      "| 16         | 4           | Conteo en caja de Petri          | 3         | IN009          |\r\n",
      "| 17         | 4           | Enriquecimiento + Peptona        | 8         | IN014          |\r\n",
      "| 18         | 4           | Dilución - neutralización 5 min  | 9         | IN015          |\r\n",
      "| 21         | 4           | Dilución - neutralización 30 min | 11        | IN017          |\r\n",
      "| 22         | 4           | Dilución - neutralización 45 min | 12        | IN018          |\r\n",
      "| 23         | 4           | Dilución - neutralización        | 4         | IN010          |\r\n"
     ]
    }
   ],
   "source": [
    "!sqlite3 -header -markdown rodam/aceptacion.db \"select id_utiliza, id_analisis, metodo.nom_metodo, utiliza.id_metodo, metodo.ref_documental from utiliza join metodo on utiliza.id_metodo = metodo.id_metodo\""
   ]
  },
  {
   "cell_type": "markdown",
   "metadata": {},
   "source": [
    "Para este producto, hemos decidido que\n",
    "\n",
    "Para el *recuento del inoculo* queremos:\n",
    "- inoculo  *Stafilococcus,\n",
    "- inoculo de *Pseudomona*.\n",
    "- siembra e incubacion para cada uno\n",
    "- conteo en caja de petri para cada uno\n",
    "\n",
    "\n",
    "\n",
    "Para *Control de toxicidad de nautralizante*:\n",
    "- queremos nuestro enriquecimento + peptona\n",
    "- inoculo de *Stafilococcus* \n",
    "- Inoculo de *pseudomona*\n",
    "- siembra e incubacion para cada uno\n",
    "- conteo en caja de petri  para cada uno\n",
    "\n",
    "Para *Control del método de dilución - neutralización* queremos:\n",
    "- nuestro enriquecimiento común \n",
    "- nuestro inoculos para *Pseudomona*  y *Stafilococcus*\n",
    "- siembra e incubacion para cada uno\n",
    "- recuento en caja de petri para cada uno\n",
    "\n",
    "Para la *prueba de dilución* queremos correr todos los metodos de dilución :\n",
    "\n",
    "- IN015- IN018 para cada cepa \n",
    "- nuestro enriquecimiento TSB\n",
    "- siembra incubacion para cada uno\n",
    "- Conteo en caja de Petri para cada uno"
   ]
  },
  {
   "cell_type": "code",
   "execution_count": 70,
   "metadata": {},
   "outputs": [],
   "source": [
    "# Creamos las especificaciones \n",
    "\n",
    "## Recuento \n",
    "\n",
    "# stafiloccocus e\n",
    "recuento_inoc1 = Dominio.Especificacion(\n",
    "id_debe_tener = 1,\n",
    "id_utiliza = 12,\n",
    "id_material_controlado = 4 ,   \n",
    "valor = \"170<t<230 \" \n",
    ")\n",
    "\n",
    "# Pseudomona en recuento\n",
    "recuento_inoc2 = Dominio.Especificacion(\n",
    "id_debe_tener = 1,\n",
    "id_utiliza = 12,\n",
    "id_material_controlado = 3,\n",
    "valor = \"170<t<230 \" \n",
    ")\n",
    "\n",
    "# Siembra\n",
    "recuento_inoc3 = Dominio.Especificacion(\n",
    "id_debe_tener = 1,\n",
    "id_utiliza = 15,\n",
    "id_material_controlado = 4,\n",
    "valor = \"<200 ufc\"\n",
    ")\n",
    "\n",
    "recuento_inoc4 = Dominio.Especificacion(\n",
    "id_debe_tener = 1,\n",
    "id_utiliza = 15,\n",
    "id_material_controlado = 3,\n",
    "valor = \"<200 ufc\"\n",
    ")\n",
    "\n",
    "\n",
    "# petri\n",
    "\n",
    "recuento_inoc5 = Dominio.Especificacion(\n",
    "id_debe_tener = 1,\n",
    "id_utiliza = 16,\n",
    "id_material_controlado = 4,\n",
    "valor = \"<200 ufc\"\n",
    ")\n",
    "\n",
    "recuento_inoc6 = Dominio.Especificacion(\n",
    "id_debe_tener = 1,\n",
    "id_utiliza = 16,\n",
    "id_material_controlado = 3,\n",
    "valor = \"<200 ufc\"\n",
    ")\n",
    "\n",
    "recuento = [recuento_inoc1, recuento_inoc2, recuento_inoc3, recuento_inoc4, recuento_inoc5, recuento_inoc6]\n",
    "\n",
    "\n",
    "## Control de toxicidad\n",
    "# peptona\n",
    "control_toxicidad1 = Dominio.Especificacion(\n",
    "id_debe_tener= 2,\n",
    "id_utiliza = 17,\n",
    "valor = \"<100 ufc\",\n",
    "id_material_controlado = 4,\n",
    ")\n",
    "\n",
    "control_toxicidad1_2 = Dominio.Especificacion(\n",
    "id_debe_tener= 2,\n",
    "id_utiliza = 17,\n",
    "valor = \"<100 ufc\",\n",
    "id_material_controlado = 3,\n",
    ")\n",
    "# staph\n",
    "control_toxicidad2 = Dominio.Especificacion(\n",
    "id_debe_tener= 2,\n",
    "id_utiliza = 14,\n",
    "id_material_controlado = 4,\n",
    "valor = \"170<t<230\"   \n",
    ")\n",
    "\n",
    "# pseudo\n",
    "control_toxicidad3 = Dominio.Especificacion(\n",
    "id_debe_tener= 2,\n",
    "id_utiliza = 13,\n",
    "id_material_controlado = 3,\n",
    "valor = \"170<t<230\" \n",
    ")\n",
    "\n",
    "# siembra\n",
    "control_toxicidad4 = Dominio.Especificacion(\n",
    "id_debe_tener= 2,\n",
    "id_utiliza = 15,\n",
    "id_material_controlado = 4,\n",
    "valor  = \"<100\"\n",
    ")\n",
    "\n",
    "control_toxicidad4_2 = Dominio.Especificacion(\n",
    "id_debe_tener= 2,\n",
    "id_utiliza = 15,\n",
    "id_material_controlado = 3,\n",
    "valor  = \"<100\"\n",
    ")\n",
    "\n",
    "# petri \n",
    "control_toxicidad5 = Dominio.Especificacion(\n",
    "id_debe_tener= 2,\n",
    "id_utiliza = 16,\n",
    "valor = \"<130 ufc\",\n",
    "id_material_controlado = 4,\n",
    ")\n",
    "\n",
    "control_toxicidad5_2 = Dominio.Especificacion(\n",
    "id_debe_tener= 2,\n",
    "id_utiliza = 16,\n",
    "valor = \"<130 ufc\",\n",
    "id_material_controlado = 3,\n",
    ")\n",
    "\n",
    "control_toxicidad = [control_toxicidad1,\n",
    "                     control_toxicidad1_2,\n",
    "                    control_toxicidad2,\n",
    "                    control_toxicidad3,\n",
    "                    control_toxicidad4,\n",
    "                     control_toxicidad4_2,\n",
    "                    control_toxicidad5,\n",
    "                    control_toxicidad5_2]\n",
    "\n",
    "## Prueba dilucion\n",
    "\n",
    "prueba_dilucion1 = Dominio.Especificacion(\n",
    "id_debe_tener = 4, \n",
    "id_utiliza = 18,\n",
    "valor = \"tiempo de exposicion\"   \n",
    ")\n",
    "prueba_dilucion2 = Dominio.Especificacion(\n",
    "id_debe_tener = 4, \n",
    "id_utiliza = 21,\n",
    "valor = \"tiempo de exposicion\" \n",
    ")\n",
    "prueba_dilucion3 = Dominio.Especificacion(\n",
    "id_debe_tener = 4, \n",
    "id_utiliza = 22,\n",
    "valor = \"tiempo de exposicion\" \n",
    ")\n",
    "\n",
    "\n",
    "prueba_dilucion = [prueba_dilucion1,\n",
    "                 prueba_dilucion2,\n",
    "                 prueba_dilucion3]\n",
    "\n",
    "\n",
    "## Control de dilucion\n",
    "\n",
    "# enriq nomral\n",
    "control_dilucion1 = Dominio.Especificacion(\n",
    "id_debe_tener = 3, \n",
    "id_utiliza = 10,\n",
    "id_material_controlado = 4,\n",
    "valor = \"<150 ufc\" \n",
    ")\n",
    "\n",
    "control_dilucion1_2 = Dominio.Especificacion(\n",
    "id_debe_tener = 3, \n",
    "id_utiliza = 10,\n",
    "id_material_controlado = 3,\n",
    "valor = \"<150 ufc\" \n",
    ")\n",
    "\n",
    "\n",
    "\n",
    "\n",
    "#staph\n",
    "control_dilucion2 = Dominio.Especificacion(\n",
    "id_debe_tener = 3, \n",
    "id_utiliza = 13,\n",
    "id_material_controlado = 4,\n",
    "valor = \"170<t<230\")\n",
    "\n",
    "# pseudo \n",
    "control_dilucion3 = Dominio.Especificacion(\n",
    "id_debe_tener = 3, \n",
    "id_utiliza = 14,\n",
    "id_material_controlado = 3,\n",
    "valor = \"170<t<230\"\n",
    ")\n",
    "\n",
    "# siembra\n",
    "control_dilucion4 = Dominio.Especificacion(\n",
    "id_debe_tener = 3, \n",
    "id_utiliza = 15,\n",
    "id_material_controlado = 4,\n",
    "valor = \"< 120 ufc\"\n",
    ")\n",
    "\n",
    "control_dilucion4_2 = Dominio.Especificacion(\n",
    "id_debe_tener = 3, \n",
    "id_utiliza = 15,\n",
    "id_material_controlado = 3,\n",
    "valor = \"< 120 ufc\"\n",
    ")\n",
    "    \n",
    "    \n",
    "# petri\n",
    "control_dilucion5 = Dominio.Especificacion(\n",
    "id_debe_tener = 3, \n",
    "id_utiliza = 16,\n",
    "id_material_controlado = 4,\n",
    "valor = \"<230 ufc\"\n",
    ")\n",
    "\n",
    "control_dilucion5_2 = Dominio.Especificacion(\n",
    "id_debe_tener = 3, \n",
    "id_utiliza = 16,\n",
    "id_material_controlado = 3,\n",
    "valor = \"<230 ufc\"\n",
    ")\n",
    "\n",
    "control_dilucion = [control_dilucion1,\n",
    "                    control_dilucion1_2,\n",
    "                   control_dilucion2,\n",
    "                   control_dilucion3,\n",
    "                   control_dilucion4,\n",
    "                    control_dilucion4_2,\n",
    "                   control_dilucion5,\n",
    "                   control_dilucion5_2]\n",
    "\n"
   ]
  },
  {
   "cell_type": "code",
   "execution_count": 71,
   "metadata": {},
   "outputs": [],
   "source": [
    "# agregamos cada grupo de especificaciones\n",
    "\n",
    "sesion.add_all(recuento)\n",
    "sesion.add_all(control_toxicidad)\n",
    "sesion.add_all(prueba_dilucion)\n",
    "sesion.add_all(control_dilucion)"
   ]
  },
  {
   "cell_type": "code",
   "execution_count": 72,
   "metadata": {},
   "outputs": [],
   "source": [
    "\n",
    "sesion.commit()"
   ]
  },
  {
   "cell_type": "markdown",
   "metadata": {},
   "source": [
    "### Caso simple: recuento de mesofilos"
   ]
  },
  {
   "cell_type": "code",
   "execution_count": 75,
   "metadata": {},
   "outputs": [],
   "source": [
    "espec_2_1 = Dominio.Especificacion(\n",
    "id_debe_tener = debe5.id_debe_tener,\n",
    "id_utiliza = 1,      # Aquí no aplica el material controlado porque  \n",
    "valor = \"< 140 ufc\"  # mesofilos son muchos. Se puede dejar en blanco\n",
    ")\n",
    "\n",
    "espec_2_2 =  Dominio.Especificacion(\n",
    "id_debe_tener = debe5.id_debe_tener,\n",
    "id_utiliza = 2,\n",
    "valor = \"< 145 ufc\"\n",
    ")\n",
    "\n",
    "espec_2_3 = Dominio.Especificacion(\n",
    "id_debe_tener = debe5.id_debe_tener,\n",
    "id_utiliza = 3,\n",
    "valor = \"< 150 ufc\"\n",
    ")\n"
   ]
  },
  {
   "cell_type": "code",
   "execution_count": 77,
   "metadata": {},
   "outputs": [],
   "source": [
    "sesion.add_all([espec_2_1, espec_2_2, espec_2_3])"
   ]
  },
  {
   "cell_type": "code",
   "execution_count": null,
   "metadata": {},
   "outputs": [],
   "source": []
  },
  {
   "cell_type": "markdown",
   "metadata": {},
   "source": [
    "Esta vista resume los datos relevantes para especificaciones:"
   ]
  },
  {
   "cell_type": "code",
   "execution_count": null,
   "metadata": {},
   "outputs": [],
   "source": [
    "!sqlite3  -header -markdown rodam/aceptacion.db 'select * from especificaciones_con_nombres'"
   ]
  },
  {
   "cell_type": "markdown",
   "metadata": {},
   "source": [
    "| nom_producto |                   nom_grupo                   |         nom_analisis         |            nom_metodo            |    material     |       material_controlado       |        valor         |\n",
    "|--------------|-----------------------------------------------|------------------------------|----------------------------------|-----------------|---------------------------------|----------------------|\n",
    "| Xinefax      | Recuento del inóculo                          | Actividad Bactericida Básica | Inóculo de material controlado   | Solución salina | Staphylococcus Aureus ATCC 6538 | 170<t<230            |\n",
    "| Xinefax      | Recuento del inóculo                          | Actividad Bactericida Básica | Inóculo de material controlado   | Solución salina | Pseudomona aeruginosa ATCC 9027 | 170<t<230            |\n",
    "| Xinefax      | Recuento del inóculo                          | Actividad Bactericida Básica | Siembra e incubación             | Agar Sabouraud  | Staphylococcus Aureus ATCC 6538 | <200 ufc             |\n",
    "| Xinefax      | Recuento del inóculo                          | Actividad Bactericida Básica | Siembra e incubación             | Agar Sabouraud  | Pseudomona aeruginosa ATCC 9027 | <200 ufc             |\n",
    "| Xinefax      | Recuento del inóculo                          | Actividad Bactericida Básica | Conteo en caja de Petri          | Agar TSB        | Staphylococcus Aureus ATCC 6538 | <200 ufc             |\n",
    "| Xinefax      | Recuento del inóculo                          | Actividad Bactericida Básica | Conteo en caja de Petri          | Agar TSB        | Pseudomona aeruginosa ATCC 9027 | <200 ufc             |\n",
    "| Xinefax      | Control de toxicidad del neutralizante        | Actividad Bactericida Básica | Enriquecimiento + Peptona        | Agar TSB        | Staphylococcus Aureus ATCC 6538 | <100 ufc             |\n",
    "| Xinefax      | Control de toxicidad del neutralizante        | Actividad Bactericida Básica | Enriquecimiento + Peptona        | Agar TSB        | Pseudomona aeruginosa ATCC 9027 | <100 ufc             |\n",
    "| Xinefax      | Control de toxicidad del neutralizante        | Actividad Bactericida Básica | Siembra e incubación             | Agar Sabouraud  | Staphylococcus Aureus ATCC 6538 | <100                 |\n",
    "| Xinefax      | Control de toxicidad del neutralizante        | Actividad Bactericida Básica | Siembra e incubación             | Agar Sabouraud  | Pseudomona aeruginosa ATCC 9027 | <100                 |\n",
    "| Xinefax      | Control de toxicidad del neutralizante        | Actividad Bactericida Básica | Conteo en caja de Petri          | Agar TSB        | Staphylococcus Aureus ATCC 6538 | <130 ufc             |\n",
    "| Xinefax      | Control de toxicidad del neutralizante        | Actividad Bactericida Básica | Conteo en caja de Petri          | Agar TSB        | Pseudomona aeruginosa ATCC 9027 | <130 ufc             |\n",
    "| Xinefax      | Prueba de dilución - neutralización           | Actividad Bactericida Básica | Dilución - neutralización 5 min  | Caldo caseina   | N. A                            | tiempo de exposicion |\n",
    "| Xinefax      | Prueba de dilución - neutralización           | Actividad Bactericida Básica | Dilución - neutralización 30 min | Caldo caseina   | N. A                            | tiempo de exposicion |\n",
    "| Xinefax      | Prueba de dilución - neutralización           | Actividad Bactericida Básica | Dilución - neutralización 45 min | Caldo caseina   | N. A                            | tiempo de exposicion |\n",
    "| Xinefax      | Control del método de dilución-neutralización | Actividad Bactericida Básica | Enriquecimiento                  | Agar TSA        | Staphylococcus Aureus ATCC 6538 | <150 ufc             |\n",
    "| Xinefax      | Control del método de dilución-neutralización | Actividad Bactericida Básica | Enriquecimiento                  | Agar TSA        | Pseudomona aeruginosa ATCC 9027 | <150 ufc             |\n",
    "| Xinefax      | Control del método de dilución-neutralización | Actividad Bactericida Básica | Siembra e incubación             | Agar Sabouraud  | Staphylococcus Aureus ATCC 6538 | < 120 ufc            |\n",
    "| Xinefax      | Control del método de dilución-neutralización | Actividad Bactericida Básica | Siembra e incubación             | Agar Sabouraud  | Pseudomona aeruginosa ATCC 9027 | < 120 ufc            |\n",
    "| Xinefax      | Control del método de dilución-neutralización | Actividad Bactericida Básica | Conteo en caja de Petri          | Agar TSB        | Staphylococcus Aureus ATCC 6538 | <230 ufc             |\n",
    "| Xinefax      | Control del método de dilución-neutralización | Actividad Bactericida Básica | Conteo en caja de Petri          | Agar TSB        | Pseudomona aeruginosa ATCC 9027 | <230 ufc             |"
   ]
  },
  {
   "cell_type": "markdown",
   "metadata": {},
   "source": [
    "## Ingreso de una muestra \n",
    "\n",
    "Una vez ingresado el `xinefax`, con sus respectivas especificaciones, se puede ahora ingresar una *muestra* de ese producto.  Un producto podra tener muchas muestras, pero como las especificaciones están asociadas al producto, no se tendrá que repetir el proceso de especificación.\n",
    "\n",
    "\n"
   ]
  },
  {
   "cell_type": "code",
   "execution_count": null,
   "metadata": {},
   "outputs": [],
   "source": [
    "\n",
    "# Creo que en el proceso de laboratorio alguien es responsable del ingreso de la muestra\n",
    "# Voy a inventar a alguien por el momento que quede asociado al ingreso de muestra.\n",
    "\n",
    "ernesto_segura = Dominio.MiembroRodam(\n",
    "id_miembro = 3,\n",
    "nom_miembro = \"Ernesto Segura\",\n",
    "id_cargo = jefe_calidad.id_cargo)\n",
    "\n",
    "\n",
    "muestra = Dominio.Muestra(\n",
    "id_muestra = 1,\n",
    "id_producto = xinefax.id_producto,\n",
    "id_origen = muestreo_planta.id_origen,\n",
    "presentacion = 'tabletas',\n",
    "lote_muestra = \"12345\",\n",
    "tamano_muestra= 500,\n",
    "unidades_tamano = \"mg\",\n",
    "registra = ernesto_segura.id_miembro\n",
    "    \n",
    ")"
   ]
  },
  {
   "cell_type": "code",
   "execution_count": null,
   "metadata": {},
   "outputs": [],
   "source": [
    "sesion.add(ernesto_segura)\n",
    "sesion.add(muestra)\n",
    "sesion.commit()"
   ]
  },
  {
   "cell_type": "code",
   "execution_count": null,
   "metadata": {},
   "outputs": [],
   "source": [
    "!sqlite3 -header -column rodam/aceptacion.db 'select id_muestra as id, id_producto as prod, id_origen as orig, presentacion as pres, lote_muestra as lote, tamano_muestra as tamaño, ingreso_muestra as ingreso, registra from muestra;'"
   ]
  },
  {
   "cell_type": "markdown",
   "metadata": {},
   "source": [
    "## Ingreso de lectura\n",
    "\n"
   ]
  },
  {
   "cell_type": "markdown",
   "metadata": {},
   "source": [
    "Viendo las especificaciones del `xinefax`, el microbiólogo ha corrido cuidadosamente cada uno de los métodos de laboratorio asociados a ese producto. Es hora, entonces,de crear una lectura. Para ingresar una lectura, necesitamos ser un MiembroRodam. Primero creemoslo."
   ]
  },
  {
   "cell_type": "code",
   "execution_count": null,
   "metadata": {},
   "outputs": [],
   "source": [
    "yuli_largo = Dominio.MiembroRodam(\n",
    "id_miembro = 1,\n",
    "nom_miembro = \"Yuli Largo\",\n",
    "id_cargo = microbiologo.id_cargo\n",
    ")\n",
    "\n",
    "daniel_arias = Dominio.MiembroRodam(\n",
    "id_miembro= 2,\n",
    "nom_miembro = \"Daniel Arias\",\n",
    "id_cargo = jefe_laboratorio.id_cargo )\n",
    "\n"
   ]
  },
  {
   "cell_type": "code",
   "execution_count": null,
   "metadata": {},
   "outputs": [],
   "source": [
    "\n",
    "sesion.add_all([yuli_largo, daniel_arias])\n",
    "sesion.commit()"
   ]
  },
  {
   "cell_type": "code",
   "execution_count": null,
   "metadata": {},
   "outputs": [],
   "source": [
    "!sqlite3 -header -column rodam/aceptacion.db 'select * from miembro_rodam;'"
   ]
  },
  {
   "cell_type": "code",
   "execution_count": null,
   "metadata": {},
   "outputs": [],
   "source": [
    "# cuántas especificaciones hay?\n",
    "\n",
    "!sqlite3 rodam/aceptacion.db 'select count(*) from especificacion'"
   ]
  },
  {
   "cell_type": "markdown",
   "metadata": {},
   "source": [
    "Vemos que la remisión del producto es bastante extensa. Para este ejemplo, solo recolectaremos la lectura de *algunas* de las especificaciones. "
   ]
  },
  {
   "cell_type": "code",
   "execution_count": null,
   "metadata": {},
   "outputs": [],
   "source": [
    "\n",
    "lectura1 = Dominio.Lectura(\n",
    "id_muestra = muestra.id_muestra,\n",
    "id_especificacion = 1,\n",
    "valor_lectura = \"112 ufc\",\n",
    "lote_medio = \"M314-20\",\n",
    "registra = yuli_largo.id_miembro,\n",
    "verifica = daniel_arias.id_miembro,\n",
    "concepto = False\n",
    ")\n",
    "\n",
    "lectura2 = Dominio.Lectura(\n",
    "id_muestra = muestra.id_muestra,\n",
    "id_especificacion = 2,\n",
    "valor_lectura = \"211 ufc\",\n",
    "registra = yuli_largo.id_miembro,\n",
    "verifica = daniel_arias.id_miembro,\n",
    "lote_medio = \"M315-20\",\n",
    "    concepto = False\n",
    "\n",
    ")\n",
    "lectura3 = Dominio.Lectura(\n",
    "id_muestra = muestra.id_muestra,   \n",
    "id_especificacion = 3,\n",
    "valor_lectura = \"211 ufc\",\n",
    "registra = yuli_largo.id_miembro,\n",
    "verifica = daniel_arias.id_miembro,\n",
    "lote_medio = \"M316-20\",\n",
    "concepto = False\n",
    ")\n",
    "\n",
    "lectura4 = Dominio.Lectura(\n",
    "id_muestra = muestra.id_muestra,   \n",
    "id_especificacion = 4,\n",
    "valor_lectura = \"211 ufc\",\n",
    "registra = yuli_largo.id_miembro,\n",
    "verifica = daniel_arias.id_miembro,\n",
    "lote_medio = \"M316-20\",\n",
    "concepto = False\n",
    ")\n",
    "lectura5 = Dominio.Lectura(\n",
    "id_muestra = muestra.id_muestra,   \n",
    "id_especificacion = 5,\n",
    "valor_lectura = \"211 ufc\",\n",
    "registra = yuli_largo.id_miembro,\n",
    "verifica = daniel_arias.id_miembro,\n",
    "lote_medio = \"M316-20\",\n",
    "concepto = False)\n",
    "    \n",
    "lectura6 = Dominio.Lectura(\n",
    "id_muestra = muestra.id_muestra,   \n",
    "id_especificacion = 6,\n",
    "valor_lectura = \"211 ufc\",\n",
    "registra = yuli_largo.id_miembro,\n",
    "verifica = daniel_arias.id_miembro,\n",
    "lote_medio = \"M316-20\",\n",
    "concepto = False)\n",
    "\n",
    "lectura7 = Dominio.Lectura(\n",
    "id_muestra = muestra.id_muestra,   \n",
    "id_especificacion = 7 ,\n",
    "valor_lectura = \"211 ufc\",\n",
    "registra = yuli_largo.id_miembro,\n",
    "verifica = daniel_arias.id_miembro,\n",
    "lote_medio = \"M316-20\",\n",
    "concepto = False)\n",
    "\n",
    "# Para control de los medios\n",
    "lectura18 = Dominio.Lectura(\n",
    "id_muestra = muestra.id_muestra,\n",
    "id_especificacion = 18,\n",
    "valor_lectura = \"211 ufc\",\n",
    "lote_medio = \"M341-22\",\n",
    "registra = yuli_largo.id_miembro,\n",
    "verifica = daniel_arias.id_miembro,\n",
    "concepto = True \n",
    ")\n",
    "\n",
    "lecturas = [lectura1, lectura2, lectura3, lectura4, lectura5, lectura6, lectura7, lectura18]"
   ]
  },
  {
   "cell_type": "code",
   "execution_count": null,
   "metadata": {},
   "outputs": [],
   "source": [
    "sesion.add_all(lecturas)"
   ]
  },
  {
   "cell_type": "code",
   "execution_count": null,
   "metadata": {},
   "outputs": [],
   "source": [
    "sesion.commit()\n"
   ]
  },
  {
   "cell_type": "code",
   "execution_count": null,
   "metadata": {},
   "outputs": [],
   "source": [
    "!sqlite3 -header -column rodam/aceptacion.db 'select * from lectura;'"
   ]
  },
  {
   "cell_type": "markdown",
   "metadata": {},
   "source": [
    "Unamos las lecturas con las especificaciones para obtener un resumen del analisis"
   ]
  },
  {
   "cell_type": "code",
   "execution_count": null,
   "metadata": {},
   "outputs": [],
   "source": [
    "!sqlite3 -header -markdown rodam/aceptacion.db \"select * from  especificacion, lectura where lectura.id_especificacion   = especificacion.id_especificacion\""
   ]
  },
  {
   "cell_type": "markdown",
   "metadata": {},
   "source": [
    "| id_especificacion | id_debe_tener | id_utiliza |   valor    | id_especificacion | id_muestra | valor_lectura |       fecha_lectura        | lote_medio | registra | verifica | medios | equipos | concepto |\n",
    "|-------------------|---------------|------------|------------|-------------------|------------|---------------|----------------------------|------------|----------|----------|--------|---------|----------|\n",
    "| 1                 | 1             | 14         | 170<t<230  | 1                 | 1          | 112 ufc       | 2021-01-28 14:46:32.532599 | M314-20    | 1        |          |        |         | 0        |\n",
    "| 2                 | 1             | 13         | 170<t<230  | 2                 | 1          | 211 ufc       | 2021-01-28 14:46:32.532635 | M315-20    | 1        | 2        |        |         | 0        |\n",
    "| 3                 | 1             | 15         | <200 ufc   | 3                 | 1          | 211 ufc       | 2021-01-28 14:46:32.532639 | M316-20    | 1        |          |        |         | 0        |\n",
    "| 4                 | 1             | 16         | <200 ufc   | 4                 | 1          | 211 ufc       | 2021-01-28 14:46:32.532642 | M316-20    | 1        |          |        |         | 0        |\n",
    "| 5                 | 2             | 17         | <100 ufc   | 5                 | 1          | 211 ufc       | 2021-01-28 14:46:32.532645 | M316-20    | 1        |          |        |         | 0        |\n",
    "| 6                 | 2             | 14         | 170<t<230  | 6                 | 1          | 211 ufc       | 2021-01-28 14:46:32.532649 | M316-20    | 1        |          |        |         | 0        |\n",
    "| 7                 | 2             | 13         | 170<t<230  | 7                 | 1          | 211 ufc       | 2021-01-28 14:46:32.532652 | M316-20    | 1        |          |        |         | 0        |"
   ]
  },
  {
   "cell_type": "markdown",
   "metadata": {},
   "source": [
    "Podemos revisar los datos más relevantes de la lectura con la vista:"
   ]
  },
  {
   "cell_type": "code",
   "execution_count": null,
   "metadata": {},
   "outputs": [],
   "source": [
    "!sqlite3 -header -markdown rodam/aceptacion.db \"select * from lectura_con_nombres;\""
   ]
  },
  {
   "cell_type": "markdown",
   "metadata": {},
   "source": [
    "| nom_producto | id_muestra |                   nom_grupo                   |         nom_analisis         |            nom_metodo            | especificacion | resultado |      medio      | lote_medio | registra | verifica | concepto |\n",
    "|--------------|------------|-----------------------------------------------|------------------------------|----------------------------------|----------------|-----------|-----------------|------------|----------|----------|----------|\n",
    "| Xinefax      | 1          | Recuento del inóculo                          | Actividad Bactericida Básica | Inóculo de Staphylococcus aureus | 170<t<230      | 112 ufc   | Solución salina | M314-20    | 1        | 2        | 0        |\n",
    "| Xinefax      | 1          | Recuento del inóculo                          | Actividad Bactericida Básica | Inóculo de Pseudomona aeruginosa | 170<t<230      | 211 ufc   | Solución salina | M315-20    | 1        | 2        | 0        |\n",
    "| Xinefax      | 1          | Recuento del inóculo                          | Actividad Bactericida Básica | Siembra e incubación             | <200 ufc       | 211 ufc   | Agar Sabouraud  | M316-20    | 1        | 2        | 0        |\n",
    "| Xinefax      | 1          | Recuento del inóculo                          | Actividad Bactericida Básica | Siembra e incubación             | <200 ufc       | 211 ufc   | Agar Sabouraud  | M316-20    | 1        | 2        | 0        |\n",
    "| Xinefax      | 1          | Recuento del inóculo                          | Actividad Bactericida Básica | Conteo en caja de Petri          | <200 ufc       | 211 ufc   | Agar TSB        | M316-20    | 1        | 2        | 0        |\n",
    "| Xinefax      | 1          | Recuento del inóculo                          | Actividad Bactericida Básica | Conteo en caja de Petri          | <200 ufc       | 211 ufc   | Agar TSB        | M316-20    | 1        | 2        | 0        |\n",
    "| Xinefax      | 1          | Control de toxicidad del neutralizante        | Actividad Bactericida Básica | Enriquecimiento + Peptona        | <100 ufc       | 211 ufc   | Agar TSB        | M316-20    | 1        | 2        | 0        |\n",
    "| Xinefax      | 1          | Control del método de dilución-neutralización | Actividad Bactericida Básica | Enriquecimiento                  | <150 ufc       | 211 ufc   | Agar TSA        | M341-22    | 1        | 2        | 1        |\n",
    "\n"
   ]
  },
  {
   "cell_type": "markdown",
   "metadata": {},
   "source": [
    "# Control de calidad de los medios \n",
    "\n",
    "El control de calidad se debe asociar a una muestra. En esa muestra, tendríamos que ver qué medios son suceptibles al control de calidad, y realizar varios controles por cada medio. En este caso, observamos que el Agar TSA del necesita un control de calidad del medio. Haremos el ejemplo con el lote `M341-22`, teniendo en mente que cada uno de los lotes implicados en una muestra tendríanque pasar por control del medio:"
   ]
  },
  {
   "cell_type": "code",
   "execution_count": null,
   "metadata": {},
   "outputs": [],
   "source": [
    "# lectura 15 (Enriquecimiento normal - medio TSA)\n",
    "\n",
    "control_medio1 = Dominio.Control_Material(\n",
    "lote_material = \"M341-22\",\n",
    "id_material_controlado = bacilus.id_material,\n",
    "lote_material_controlado = \"486-862-5-a10-4\",\n",
    "especificacion = \"Entre 50 y 150 ufc\",\n",
    "resultado = \"98 ufc\",\n",
    "concepto = True\n",
    ")\n",
    "\n",
    "control_medio2 = Dominio.Control_Material(\n",
    "lote_material = \"M341-22\",\n",
    "id_material_controlado = pseudomona.id_material,\n",
    "lote_material_controlado = \"484-862-5-a10-4\",\n",
    "especificacion = \"Entre 50 y 150 ufc\",\n",
    "resultado = \"98 ufc\",\n",
    "concepto = True\n",
    "\n",
    ")\n",
    "\n",
    "\n",
    "control_medio3 = Dominio.Control_Material(\n",
    "lote_material = \"M341-22\",\n",
    "id_material_controlado = staph_aureus.id_material,\n",
    "lote_material_controlado = \"483-862-5-a10-4\",\n",
    "especificacion = \"Entre 50 y 150 ufc\",\n",
    "resultado = \"98 ufc\",\n",
    "concepto = True\n",
    ")\n",
    "\n",
    "control_medio4 = Dominio.Control_Material(\n",
    "lote_material = \"M341-22\",\n",
    "especificacion = \"Entre 50 y 150 ufc\",\n",
    "lote_material_controlado = \"286-862-5-a10-4\",\n",
    "resultado = \"98 ufc\",\n",
    "concepto = True\n",
    ")\n",
    "\n",
    "control_medio5 = Dominio.Control_Material(\n",
    "lote_material = \"M341-22\",\n",
    "id_material_controlado = aspergillus.id_material,\n",
    "especificacion = \"Entre 50 y 150 ufc\",\n",
    "lote_material_controlado = \"386-862-5-a10-4\",\n",
    "resultado = \"98 ufc\",\n",
    "concepto = True\n",
    ")\n",
    "\n",
    "control_del_medio = [control_medio1, control_medio2, control_medio3, control_medio4, control_medio5]\n",
    "\n"
   ]
  },
  {
   "cell_type": "code",
   "execution_count": null,
   "metadata": {},
   "outputs": [],
   "source": [
    "sesion.add_all(control_del_medio)\n",
    "sesion.commit()"
   ]
  },
  {
   "cell_type": "code",
   "execution_count": null,
   "metadata": {},
   "outputs": [],
   "source": [
    "!sqlite3 -header -markdown rodam/aceptacion.db 'select lote_medio, nom_microorganismo, ATC, lote_cepa, especificacion, resultado, fecha_resultado from control_medio, microorganismo where microorganismo.id_microorganismo = control_medio.id_microorganismo '"
   ]
  },
  {
   "cell_type": "markdown",
   "metadata": {},
   "source": [
    "| lote_medio |      nom_microorganismo      |  ATC  |    lote_cepa    |   especificacion   | resultado |      fecha_resultado       |\n",
    "|------------|------------------------------|-------|-----------------|--------------------|-----------|----------------------------|\n",
    "| M341-22    | Bacillus subtilis spizizenii | 6633  | 486-862-5-a10-4 | Entre 50 y 150 ufc | 98 ufc    | 2021-01-29 12:48:14.117903 |\n",
    "| M341-22    | Pseudomona aeruginosa        | 9027  | 484-862-5-a10-4 | Entre 50 y 150 ufc | 98 ufc    | 2021-01-29 12:48:14.120013 |\n",
    "| M341-22    | Staphylococcus Aureus        | 6538  | 483-862-5-a10-4 | Entre 50 y 150 ufc | 98 ufc    | 2021-01-29 12:48:14.120613 |\n",
    "| M341-22    | Aspergillus bresilensis      | 16404 | 386-862-5-a10-4 | Entre 50 y 150 ufc | 98 ufc    | 2021-01-29 12:48:14.121559 |"
   ]
  },
  {
   "cell_type": "markdown",
   "metadata": {},
   "source": [
    "# Emisión de certificados \n",
    "\n",
    "En esta sección veremos cómo podemos construir un certificado de análisis a partir de las tablas que tenemos. \n",
    "Con consultas más elaboradas, podemos reconstruir los aspectos principales del certificado de análisis actual:"
   ]
  },
  {
   "cell_type": "markdown",
   "metadata": {},
   "source": [
    "### Informacion del cliente\n",
    "\n",
    "\n",
    "Con una consulta como: \n",
    "\n",
    "```sql\n",
    "select nom_empresa as empresa, nit_empresa as nit,  direccion, pagina, correo from empresa, ciudad where empresa.id_ciudad = ciudad.id_ciudad and empresa.id_empresa = 1;\n",
    "```\n",
    "Podemos generar:"
   ]
  },
  {
   "cell_type": "code",
   "execution_count": null,
   "metadata": {},
   "outputs": [],
   "source": [
    "!sqlite3 -header -line rodam/aceptacion.db 'select nom_empresa as empresa, nit_empresa as nit,  direccion, pagina, correo from empresa, ciudad where empresa.id_ciudad = ciudad.id_ciudad and empresa.id_empresa = 1;'"
   ]
  },
  {
   "cell_type": "markdown",
   "metadata": {},
   "source": [
    "## Información de la muestra \n",
    "\n",
    "Con una consulta como :\n",
    "\n",
    "```sql\n",
    "select  nom_producto, presentacion,tamano_muestra as tamano, unidades_tamano as unidades, ingreso_muestra, nom_miembro as registra from producto, muestra, miembro_rodam m where producto.id_producto = muestra.id_muestra and muestra.registra = m.id_miembro\n",
    "```\n",
    "produce:"
   ]
  },
  {
   "cell_type": "code",
   "execution_count": null,
   "metadata": {},
   "outputs": [],
   "source": [
    "!sqlite3 -header -line rodam/aceptacion.db 'select  nom_producto, presentacion,tamano_muestra as tamano, unidades_tamano as unidades, ingreso_muestra, nom_miembro as registra from producto, muestra, miembro_rodam m where producto.id_producto = muestra.id_muestra and muestra.registra = m.id_miembro'"
   ]
  },
  {
   "cell_type": "markdown",
   "metadata": {},
   "source": [
    "\n",
    "### Resumen analisis\n",
    "\n",
    "Con una consulta como: \n",
    "\n",
    "\n",
    "``` sql\n",
    "select nom_grupo as grupo, nom_analisis as analisis,nom_metodo as metodo,medio, lote_medio,especificacion.descripcion as especificacion, valor_lectura as resultado,  concepto from grupo, analisis,metodo, lectura,especificacion where grupo.id_grupo = lectura.id_grupo and analisis.id_analisis = lectura.id_analisis and metodo.id_metodo = lectura.id_metodo and lectura.id_producto = especificacion.id_producto and lectura.id_analisis = especificacion.id_analisis and lectura.id_metodo = especificacion.id_metodo and lectura.id_grupo = especificacion.id_grupo;\n",
    "\n",
    "````\n",
    "\n",
    "Produce:\n",
    "\n",
    "\n"
   ]
  },
  {
   "cell_type": "code",
   "execution_count": null,
   "metadata": {
    "scrolled": false
   },
   "outputs": [],
   "source": [
    "!sqlite3 -header -markdown rodam/aceptacion.db \"select nom_grupo as grupo, nom_analisis as analisis,nom_metodo as metodo,medio, lote_medio,especificacion.descripcion as especificacion, valor_lectura as resultado,  concepto from grupo, analisis,metodo, lectura,especificacion where grupo.id_grupo = lectura.id_grupo and analisis.id_analisis = lectura.id_analisis and metodo.id_metodo = lectura.id_metodo and lectura.id_producto = especificacion.id_producto and lectura.id_analisis = especificacion.id_analisis and lectura.id_metodo = especificacion.id_metodo and lectura.id_grupo = especificacion.id_grupo;\""
   ]
  },
  {
   "cell_type": "markdown",
   "metadata": {},
   "source": [
    "|          grupo           |            analisis             |         metodo          |     medio      | lote_medio | especificacion | resultado | concepto |\n",
    "|--------------------------|---------------------------------|-------------------------|----------------|------------|----------------|-----------|----------|\n",
    "| Grupo de control         | Recuento de Mesofilos Aeorobios | Enriquecimiento         | Agar TSA       | M314-20    | < 100 ufc      | 112 ufc   | 0        |\n",
    "| Grupo de control         | Recuento de Mesofilos Aeorobios | Siembra e incubación    | Agar Sabouraud | M315-20    | < 100 ufc      | 211 ufc   | 0        |\n",
    "| Grupo de control         | Recuento de Mesofilos Aeorobios | Conteo en caja de Petri | Agar TSB       | M316-20    | < 100 ufc      | 211 ufc   | 0        |\n",
    "| Grupo de experimentación | Recuento de Mesofilos Aeorobios | Enriquecimiento         | Agar TSA       | M314-21    | < 200 ufc      | 40 ufc    | 0        |\n",
    "| Grupo de experimentación | Recuento de Mesofilos Aeorobios | Siembra e incubación    | Agar Sabouraud | M315-21    | < 10 ufc       | 20 ufc    | 0        |\n",
    "| Grupo de experimentación | Recuento de Mesofilos Aeorobios | Conteo en caja de Petri | Agar TSB       | M316-21    | < 140 ufc      | 70 ufc    | 1        |\n",
    "| Grupo de experimentación | Recuento de Hongos y Levaduras  | Enriquecimiento         | Agar TSA       | M314-22    | < 40 ufc       | 80 ufc    | 0        |\n",
    "| Grupo de experimentación | Recuento de Hongos y Levaduras  | Siembra e incubación    | Agar Sabouraud | M315-22    | < 10 ufc       | 90 ufc    | 0        |\n",
    "| Grupo de experimentación | Recuento de Hongos y Levaduras  | Conteo en caja de Petri | Agar TSB       | M316-22    | < 230 ufc      | 100 ufc   | 1        |"
   ]
  },
  {
   "cell_type": "markdown",
   "metadata": {},
   "source": [
    "### Equipos utilizados\n",
    "|       nom_equipo        | ref_documental |\n",
    "|-------------------------|----------------|\n",
    "| Cabina de flujo laminar | E001           |\n",
    "| Balanza                 | E020           |\n",
    "| Balanza                 | E020           |\n",
    "| Micropipeta             | E019           |\n",
    "| Incubadora              | E010           |\n",
    "| Balanza                 | E020           |\n",
    "| Caja de Petri           | E011           |"
   ]
  },
  {
   "cell_type": "markdown",
   "metadata": {},
   "source": [
    "# Una aproximación al documento final\n",
    "---\n",
    "\n",
    "    INFORMACION DEL CLIENTE\n",
    "    empresa = Compañía Nacional de Cosméticos CONALCOS\n",
    "    nit = 90024\n",
    "    direccion = calle 34 Bis 39-33\n",
    "    pagina = conalcos.com.co\n",
    "    correo = contacto@conalco.com.co\n",
    "\n",
    "    INFORMACION DE LA MUESTRA\n",
    "    nom_producto = Xinefax\n",
    "    presentacion = tabletas\n",
    "    tamano = 500\n",
    "    unidades = mg\n",
    "    ingreso_muestra = 2021-01-21 16:14:57.105971\n",
    "    registra = Ernesto Segura\n",
    "      \n",
    "\n",
    "    RESUMEN ANALISIS\n",
    "\n",
    "|          grupo           |            analisis             |         metodo          |     medio      | lote_medio | especificacion | resultado | concepto |\n",
    "|--------------------------|---------------------------------|-------------------------|----------------|------------|----------------|-----------|----------|\n",
    "| Grupo de control         | Recuento de Mesofilos Aeorobios | Enriquecimiento         | Agar TSA       | M314-20    | < 100 ufc      | 112 ufc   | 0        |\n",
    "| Grupo de control         | Recuento de Mesofilos Aeorobios | Siembra e incubación    | Agar Sabouraud | M315-20    | < 100 ufc      | 211 ufc   | 0        |\n",
    "| Grupo de control         | Recuento de Mesofilos Aeorobios | Conteo en caja de Petri | Agar TSB       | M316-20    | < 100 ufc      | 211 ufc   | 0        |\n",
    "| Grupo de experimentación | Recuento de Mesofilos Aeorobios | Enriquecimiento         | Agar TSA       | M314-21    | < 200 ufc      | 40 ufc    | 0        |\n",
    "| Grupo de experimentación | Recuento de Mesofilos Aeorobios | Siembra e incubación    | Agar Sabouraud | M315-21    | < 10 ufc       | 20 ufc    | 0        |\n",
    "| Grupo de experimentación | Recuento de Mesofilos Aeorobios | Conteo en caja de Petri | Agar TSB       | M316-21    | < 140 ufc      | 70 ufc    | 1        |\n",
    "| Grupo de experimentación | Recuento de Hongos y Levaduras  | Enriquecimiento         | Agar TSA       | M314-22    | < 40 ufc       | 80 ufc    | 0        |\n",
    "| Grupo de experimentación | Recuento de Hongos y Levaduras  | Siembra e incubación    | Agar Sabouraud | M315-22    | < 10 ufc       | 90 ufc    | 0        |\n",
    "| Grupo de experimentación | Recuento de Hongos y Levaduras  | Conteo en caja de Petri | Agar TSB       | M316-22    | < 230 ufc      | 100 ufc   | 1        |\n",
    "\n",
    "\n",
    "    EQUIPOS UTILIZADOS\n",
    "\n",
    "|       nom_equipo        | ref_documental |\n",
    "|-------------------------|----------------|\n",
    "| Cabina de flujo laminar | E001           |\n",
    "| Balanza                 | E020           |\n",
    "| Balanza                 | E020           |\n",
    "| Micropipeta             | E019           |\n",
    "| Incubadora              | E010           |\n",
    "| Balanza                 | E020           |\n",
    "| Caja de Petri           | E011           |"
   ]
  },
  {
   "cell_type": "markdown",
   "metadata": {},
   "source": [
    "        CONTROL DE CALIDAD DE LOS MEDIOS "
   ]
  },
  {
   "cell_type": "markdown",
   "metadata": {},
   "source": [
    "| lote_medio |      nom_microorganismo      |  ATC  |    lote_cepa    |   especificacion   | resultado |      fecha_resultado       |\n",
    "|------------|------------------------------|-------|-----------------|--------------------|-----------|----------------------------|\n",
    "| M341-22    | Bacillus subtilis spizizenii | 6633  | 486-862-5-a10-4 | Entre 50 y 150 ufc | 98 ufc    | 2021-01-28 19:35:19.394156 |\n",
    "| M341-22    | Pseudomona aeruginosa        | 9027  | 484-862-5-a10-4 | Entre 50 y 150 ufc | 98 ufc    | 2021-01-28 19:35:19.395541 |\n",
    "| M341-22    | Staphylococcus Aureus        | 6538  | 483-862-5-a10-4 | Entre 50 y 150 ufc | 98 ufc    | 2021-01-28 19:35:19.395806 |\n",
    "| M341-22    | Aspergillus bresilensis      | 16404 | 386-862-5-a10-4 | Entre 50 y 150 ufc | 98 ufc    | 2021-01-28 19:35:19.396214 |"
   ]
  }
 ],
 "metadata": {
  "kernelspec": {
   "display_name": "Python 3",
   "language": "python",
   "name": "python3"
  },
  "language_info": {
   "codemirror_mode": {
    "name": "ipython",
    "version": 3
   },
   "file_extension": ".py",
   "mimetype": "text/x-python",
   "name": "python",
   "nbconvert_exporter": "python",
   "pygments_lexer": "ipython3",
   "version": "3.7.4"
  }
 },
 "nbformat": 4,
 "nbformat_minor": 4
}
