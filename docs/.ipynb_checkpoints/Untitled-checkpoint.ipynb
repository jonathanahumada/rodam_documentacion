{
 "cells": [
  {
   "cell_type": "markdown",
   "metadata": {},
   "source": [
    "# Flujo del módulo laboratorio\n",
    "\n",
    "Este cuaderno ejemplifica las funcionalidades básicas del módulo laboratorio. \n",
    "\n",
    "## Objetivo\n",
    "Evaluar el alcance de las capacidades del 'backend' del módulo Laboratorio. \n",
    "\n",
    "## Definiciones\n",
    "El 'backend' está compuesto por dos capas. La primera de ellas es la capa de la base de datos relacional. \n",
    "\n",
    "La segunda de ellas es a capa del ORM, que mapea el modelo relacional al paradigma de orientación a objetos. \n",
    "\n",
    "\n",
    "Estas dos capas estan implementadas simultaneamente en el módulo de python 'rodam.modelos.Dominio' a través de la herramienta 'sqlalchemy'.\n",
    "\n",
    "Las clases 'instrumentadas' son las clases que utilizan la herramienta 'sqlalchemy' para generar tablas del modelo relacional. \n",
    "\n",
    "\n",
    "\n",
    "\n"
   ]
  },
  {
   "cell_type": "code",
   "execution_count": null,
   "metadata": {},
   "outputs": [],
   "source": []
  }
 ],
 "metadata": {
  "kernelspec": {
   "display_name": "Python 3",
   "language": "python",
   "name": "python3"
  },
  "language_info": {
   "codemirror_mode": {
    "name": "ipython",
    "version": 3
   },
   "file_extension": ".py",
   "mimetype": "text/x-python",
   "name": "python",
   "nbconvert_exporter": "python",
   "pygments_lexer": "ipython3",
   "version": "3.7.4"
  }
 },
 "nbformat": 4,
 "nbformat_minor": 4
}
